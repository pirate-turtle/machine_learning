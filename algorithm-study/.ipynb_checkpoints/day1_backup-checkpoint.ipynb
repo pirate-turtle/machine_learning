{
 "cells": [
  {
   "cell_type": "code",
   "execution_count": 65,
   "metadata": {},
   "outputs": [],
   "source": [
    "import numpy as np\n",
    "import numpy.linalg as lin"
   ]
  },
  {
   "cell_type": "code",
   "execution_count": 19,
   "metadata": {},
   "outputs": [
    {
     "name": "stdout",
     "output_type": "stream",
     "text": [
      "2.0 1.0\n",
      "15.0\n"
     ]
    }
   ],
   "source": [
    "w = (3-61) / (1-30)\n",
    "b = 3 - w * 1\n",
    "print(w, b)\n",
    "x_ = 7\n",
    "h = w * x_ + b\n",
    "print(h)"
   ]
  },
  {
   "cell_type": "code",
   "execution_count": 20,
   "metadata": {},
   "outputs": [
    {
     "ename": "TypeError",
     "evalue": "can't multiply sequence by non-int of type 'float'",
     "output_type": "error",
     "traceback": [
      "\u001b[1;31m---------------------------------------------------------------------------\u001b[0m",
      "\u001b[1;31mTypeError\u001b[0m                                 Traceback (most recent call last)",
      "\u001b[1;32m<ipython-input-20-62e2d3278463>\u001b[0m in \u001b[0;36m<module>\u001b[1;34m\u001b[0m\n\u001b[0;32m      1\u001b[0m \u001b[0mx_\u001b[0m \u001b[1;33m=\u001b[0m \u001b[1;33m[\u001b[0m\u001b[1;36m1\u001b[0m\u001b[1;33m,\u001b[0m\u001b[1;36m2\u001b[0m\u001b[1;33m,\u001b[0m\u001b[1;36m3\u001b[0m\u001b[1;33m,\u001b[0m\u001b[1;36m4\u001b[0m\u001b[1;33m,\u001b[0m\u001b[1;36m5\u001b[0m\u001b[1;33m]\u001b[0m\u001b[1;33m\u001b[0m\u001b[1;33m\u001b[0m\u001b[0m\n\u001b[1;32m----> 2\u001b[1;33m \u001b[0mh\u001b[0m \u001b[1;33m=\u001b[0m \u001b[0mw\u001b[0m \u001b[1;33m*\u001b[0m \u001b[0mx_\u001b[0m \u001b[1;33m+\u001b[0m \u001b[0mb\u001b[0m\u001b[1;33m\u001b[0m\u001b[1;33m\u001b[0m\u001b[0m\n\u001b[0m\u001b[0;32m      3\u001b[0m \u001b[0mprint\u001b[0m\u001b[1;33m(\u001b[0m\u001b[0mh\u001b[0m\u001b[1;33m)\u001b[0m\u001b[1;33m\u001b[0m\u001b[1;33m\u001b[0m\u001b[0m\n",
      "\u001b[1;31mTypeError\u001b[0m: can't multiply sequence by non-int of type 'float'"
     ]
    }
   ],
   "source": [
    "x_ = [1,2,3,4,5]\n",
    "h = w * x_ + b\n",
    "print(h)"
   ]
  },
  {
   "cell_type": "code",
   "execution_count": 21,
   "metadata": {},
   "outputs": [
    {
     "name": "stdout",
     "output_type": "stream",
     "text": [
      "[ 3.  5.  7.  9. 11.]\n"
     ]
    }
   ],
   "source": [
    "x_ = np.array([1,2,3,4,5])\n",
    "h = w * x_ + b\n",
    "print(h)"
   ]
  },
  {
   "cell_type": "code",
   "execution_count": 30,
   "metadata": {},
   "outputs": [
    {
     "name": "stdout",
     "output_type": "stream",
     "text": [
      "3.3999999999999995\n"
     ]
    }
   ],
   "source": [
    "w = 2\n",
    "b = 1   # h = 2*x + 1\n",
    "x = np.array([1,  2,   3,   4,   5,   6,   7])\n",
    "y = np.array([3, 5,   7.3, 9.4, 12, 13.7, 16])\n",
    "\n",
    "h = w * x + b\n",
    "print(np.sum((y - h)))\n"
   ]
  },
  {
   "cell_type": "code",
   "execution_count": 28,
   "metadata": {},
   "outputs": [
    {
     "name": "stdout",
     "output_type": "stream",
     "text": [
      "18.300000000000004\n"
     ]
    }
   ],
   "source": [
    "w = 3\n",
    "b = 0.1   # h = 2*x + 1\n",
    "x = np.array([1,  2,   3,   4,   5,   6,   7])\n",
    "y = np.array([3, 5,   7.3, 9.4, 12, 13.7, 16])\n",
    "h = w * x + b\n",
    "\n",
    "print(np.sum(np.abs(y - h)))"
   ]
  },
  {
   "cell_type": "code",
   "execution_count": 68,
   "metadata": {},
   "outputs": [
    {
     "name": "stdout",
     "output_type": "stream",
     "text": [
      "(2, 2)\n",
      "(2, 1)\n"
     ]
    }
   ],
   "source": [
    "A = np.array( [[1,1],\n",
    "               [2,1]])\n",
    "y = np.array([[2], \n",
    "              [4.4]])\n",
    "W = np.matmul(lin.inv(A), y)    #    pinv = (A'*A)-1 A'     , A.T\n"
   ]
  },
  {
   "cell_type": "code",
   "execution_count": 85,
   "metadata": {},
   "outputs": [
    {
     "name": "stdout",
     "output_type": "stream",
     "text": [
      "[[ 2.54]\n",
      " [-0.7 ]]\n",
      "[[1.84]\n",
      " [4.38]\n",
      " [6.92]\n",
      " [9.46]]\n",
      "0.3209361307176245\n"
     ]
    }
   ],
   "source": [
    "A = np.array( [[1,1], [2,1], [3,1], [4,1]])\n",
    "y = np.array([[2], [4.4], [6.4], [9.8]])\n",
    "\n",
    "A_ = lin.inv(np.matmul(A.T, A))\n",
    "W = np.matmul( np.matmul(A_, A.T), y )     # training\n",
    "print(W) \n",
    "h =  np.matmul(A, W)         # prediction \n",
    "print(h)    \n",
    "\n",
    "RMSE = np.sqrt(np.mean((y - h)**2))    #  evaluation \n",
    "print(RMSE)"
   ]
  },
  {
   "cell_type": "code",
   "execution_count": null,
   "metadata": {},
   "outputs": [],
   "source": [
    "import matplotlib.pyplot as plt\n",
    "\n",
    "x = np.array([4,9,10,14,4,7,12,22,1,3,8,11,5,6,10,11,16,13,13,10])\n",
    "y = np.array([390,580,650,730,410,530,600,790,350,400,590,640,450,520,690,690,770,700,730,640])\n",
    "\n",
    "plt.plot(x,y, '*')"
   ]
  },
  {
   "cell_type": "markdown",
   "metadata": {},
   "source": [
    "\n",
    "- 13,15,20 시간 공부하면 SAT는 몇점인지 예측\n",
    "\n",
    "- SAT 840점을 얻기 위해 몇 시간 공부야 하는가?\n",
    "\n",
    "- 추정 w,b로 부터 발생하는 학습 오차는 얼마인가? (RMSE)\n",
    "\n",
    "- 최적의 가중치 w, b 는 얼마인가?\n",
    "\n",
    "- 이전 모델보다 좋은가?\n",
    "\n",
    "- 그래서, 시간당 SAT 점수가 얼마나 올라간다는 애기야?\n",
    "\n"
   ]
  },
  {
   "cell_type": "code",
   "execution_count": 1,
   "metadata": {},
   "outputs": [
    {
     "ename": "NameError",
     "evalue": "name 'np' is not defined",
     "output_type": "error",
     "traceback": [
      "\u001b[1;31m---------------------------------------------------------------------------\u001b[0m",
      "\u001b[1;31mNameError\u001b[0m                                 Traceback (most recent call last)",
      "\u001b[1;32m<ipython-input-1-76adb1582103>\u001b[0m in \u001b[0;36m<module>\u001b[1;34m\u001b[0m\n\u001b[0;32m      2\u001b[0m \u001b[0mb\u001b[0m \u001b[1;33m=\u001b[0m \u001b[1;36m351.2\u001b[0m\u001b[1;33m\u001b[0m\u001b[1;33m\u001b[0m\u001b[0m\n\u001b[0;32m      3\u001b[0m \u001b[0mx\u001b[0m \u001b[1;33m=\u001b[0m \u001b[1;33m[\u001b[0m\u001b[1;36m13\u001b[0m\u001b[1;33m,\u001b[0m \u001b[1;36m14\u001b[0m\u001b[1;33m]\u001b[0m\u001b[1;33m\u001b[0m\u001b[1;33m\u001b[0m\u001b[0m\n\u001b[1;32m----> 4\u001b[1;33m \u001b[0my\u001b[0m \u001b[1;33m=\u001b[0m \u001b[0mnp\u001b[0m\u001b[1;33m.\u001b[0m\u001b[0marray\u001b[0m\u001b[1;33m(\u001b[0m\u001b[0mx\u001b[0m\u001b[1;33m)\u001b[0m \u001b[1;33m*\u001b[0m \u001b[0mw\u001b[0m \u001b[1;33m+\u001b[0m \u001b[0mb\u001b[0m\u001b[1;33m\u001b[0m\u001b[1;33m\u001b[0m\u001b[0m\n\u001b[0m\u001b[0;32m      5\u001b[0m \u001b[0mprint\u001b[0m\u001b[1;33m(\u001b[0m\u001b[0my\u001b[0m\u001b[1;33m)\u001b[0m\u001b[1;33m\u001b[0m\u001b[1;33m\u001b[0m\u001b[0m\n",
      "\u001b[1;31mNameError\u001b[0m: name 'np' is not defined"
     ]
    }
   ],
   "source": [
    "w = 20.3\n",
    "b = 351.2\n",
    "x = [13, 14]\n",
    "y = np.array(x) * w + b\n",
    "print(y)"
   ]
  },
  {
   "cell_type": "code",
   "execution_count": 34,
   "metadata": {},
   "outputs": [
    {
     "name": "stdout",
     "output_type": "stream",
     "text": [
      "840\n",
      "24.078817733990146\n"
     ]
    }
   ],
   "source": [
    "y = 840\n",
    "x = (y  - b) / w\n",
    "print(y)\n",
    "print(x)"
   ]
  },
  {
   "cell_type": "code",
   "execution_count": 90,
   "metadata": {},
   "outputs": [
    {
     "name": "stdout",
     "output_type": "stream",
     "text": [
      "72.56996968443626\n"
     ]
    }
   ],
   "source": [
    "#3\n",
    "error = (y - (x*w+b))**2\n",
    "result = np.sqrt(np.mean(error) )\n",
    "\n",
    "print(result)"
   ]
  },
  {
   "cell_type": "code",
   "execution_count": 143,
   "metadata": {},
   "outputs": [
    {
     "name": "stdout",
     "output_type": "stream",
     "text": [
      "(20, 1)\n",
      "(20, 1)\n"
     ]
    }
   ],
   "source": [
    "x = np.array([[4,9,10,14,4,7,12,22,1,3,8,11,5,6,10,11,16,13,13,10]]).T\n",
    "y = np.array([[390,580,650,730,410,530,600,790,350,400,590,640,450,520,690,690,770,700,730,640]]).T\n",
    "print(x.shape)\n",
    "print(y.shape)"
   ]
  },
  {
   "cell_type": "code",
   "execution_count": 144,
   "metadata": {},
   "outputs": [
    {
     "name": "stdout",
     "output_type": "stream",
     "text": [
      "(20, 2)\n",
      "[[ 25.32646778]\n",
      " [353.1648795 ]]\n"
     ]
    }
   ],
   "source": [
    "A = np.append(x, np.ones((x.shape[0], 1)), axis = 1)\n",
    "#print(A)\n",
    "print(A.shape)\n",
    "W =  np.matmul( lin.pinv(A), y)          # (A'T*A)-1*A'\n",
    "print(W)"
   ]
  },
  {
   "cell_type": "code",
   "execution_count": 148,
   "metadata": {},
   "outputs": [
    {
     "name": "stdout",
     "output_type": "stream",
     "text": [
      "72.56996968443626\n",
      "47.166490000395676\n"
     ]
    }
   ],
   "source": [
    "#7\n",
    "w = W[0]\n",
    "b = W[1]\n",
    "error2 = (y - (x*w+b))**2\n",
    "#error2 = ( y- np.matmul(A,W))**2\n",
    "result2 = np.sqrt(np.mean(error2) )\n",
    "\n",
    "print(result)\n",
    "print(result2)"
   ]
  },
  {
   "cell_type": "code",
   "execution_count": 149,
   "metadata": {},
   "outputs": [
    {
     "data": {
      "text/plain": [
       "[<matplotlib.lines.Line2D at 0x1fe1990fec8>]"
      ]
     },
     "execution_count": 149,
     "metadata": {},
     "output_type": "execute_result"
    },
    {
     "data": {
      "image/png": "[encoded data removed]",
      "text/plain": [
       "<Figure size 432x288 with 1 Axes>"
      ]
     },
     "metadata": {
      "needs_background": "light"
     },
     "output_type": "display_data"
    }
   ],
   "source": [
    "plt.plot(x[:,0], y[:,0], '*')   # x[ :,3]\n",
    "\n",
    "x_ =np.linspace(1, 30, 60)\n",
    "h = x_*w + b\n",
    "plt.plot(x_, h, 'r')\n"
   ]
  },
  {
   "cell_type": "code",
   "execution_count": 47,
   "metadata": {},
   "outputs": [],
   "source": [
    "#1\n",
    "Interest_Rate =  np.array([[2.75,2.5,2.5,2.5,2.5,2.5,2.5,2.25,2.25,2.25,2,2,2,1.75,1.75,1.75,1.75,1.75,1.75,1.75,1.75,1.75,1.75,1.75]]).T\n",
    "Unemployment_Rate = np.array([[5.3,5.3,5.3,5.3,5.4,5.6,5.5,5.5,5.5,5.6,5.7,5.9,6,5.9,5.8,6.1,6.2,6.1,6.1,6.1,5.9,6.2,6.2,6.1]]).T\n",
    "Stock_Index_Price =  [1464,1394,1357,1293,1256,1254,1234,1195,1159,1167,1130,1075,1047,965,943,958,971,949,884,866,876,822,704,719]"
   ]
  },
  {
   "cell_type": "code",
   "execution_count": 56,
   "metadata": {},
   "outputs": [
    {
     "data": {
      "text/plain": [
       "[<matplotlib.lines.Line2D at 0x1fe19528688>]"
      ]
     },
     "execution_count": 56,
     "metadata": {},
     "output_type": "execute_result"
    },
    {
     "data": {
      "image/png": "[encoded data removed]",
      "text/plain": [
       "<Figure size 432x288 with 1 Axes>"
      ]
     },
     "metadata": {
      "needs_background": "light"
     },
     "output_type": "display_data"
    }
   ],
   "source": [
    "plt.plot(Interest_Rate[:,0], Stock_Index_Price, '*')"
   ]
  },
  {
   "cell_type": "code",
   "execution_count": 57,
   "metadata": {},
   "outputs": [
    {
     "data": {
      "text/plain": [
       "[<matplotlib.lines.Line2D at 0x1fe19591c88>]"
      ]
     },
     "execution_count": 57,
     "metadata": {},
     "output_type": "execute_result"
    },
    {
     "data": {
      "image/png": "[encoded data removed]",
      "text/plain": [
       "<Figure size 432x288 with 1 Axes>"
      ]
     },
     "metadata": {
      "needs_background": "light"
     },
     "output_type": "display_data"
    }
   ],
   "source": [
    "plt.plot(Unemployment_Rate[:,0], Stock_Index_Price, '*')"
   ]
  }
 ],
 "metadata": {
  "kernelspec": {
   "display_name": "Python 3",
   "language": "python",
   "name": "python3"
  },
  "language_info": {
   "codemirror_mode": {
    "name": "ipython",
    "version": 3
   },
   "file_extension": ".py",
   "mimetype": "text/x-python",
   "name": "python",
   "nbconvert_exporter": "python",
   "pygments_lexer": "ipython3",
   "version": "3.7.6"
  },
  "toc": {
   "base_numbering": 1,
   "nav_menu": {},
   "number_sections": false,
   "sideBar": true,
   "skip_h1_title": false,
   "title_cell": "Table of Contents",
   "title_sidebar": "Contents",
   "toc_cell": false,
   "toc_position": {},
   "toc_section_display": true,
   "toc_window_display": false
  }
 },
 "nbformat": 4,
 "nbformat_minor": 4
}
