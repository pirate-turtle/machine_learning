{
 "cells": [
  {
   "cell_type": "code",
   "execution_count": 1,
   "metadata": {},
   "outputs": [],
   "source": [
    "import numpy as np\n",
    "import numpy.linalg as lin"
   ]
  },
  {
   "cell_type": "code",
   "execution_count": 2,
   "metadata": {},
   "outputs": [
    {
     "name": "stdout",
     "output_type": "stream",
     "text": [
      "2.0 1.0\n"
     ]
    }
   ],
   "source": [
    "w = (3 - 61) / (1-30)\n",
    "b = 3 - w * 1\n",
    "print(w, b)"
   ]
  },
  {
   "cell_type": "code",
   "execution_count": 3,
   "metadata": {},
   "outputs": [
    {
     "name": "stdout",
     "output_type": "stream",
     "text": [
      "15.0\n"
     ]
    }
   ],
   "source": [
    "x_ = 7\n",
    "h = w * x_ + b\n",
    "print(h)"
   ]
  },
  {
   "cell_type": "code",
   "execution_count": 4,
   "metadata": {},
   "outputs": [
    {
     "ename": "TypeError",
     "evalue": "can't multiply sequence by non-int of type 'float'",
     "output_type": "error",
     "traceback": [
      "\u001b[1;31m---------------------------------------------------------------------------\u001b[0m",
      "\u001b[1;31mTypeError\u001b[0m                                 Traceback (most recent call last)",
      "\u001b[1;32m<ipython-input-4-05806d7776b7>\u001b[0m in \u001b[0;36m<module>\u001b[1;34m\u001b[0m\n\u001b[0;32m      1\u001b[0m \u001b[1;31m# 일반 array는 에러 발생\u001b[0m\u001b[1;33m\u001b[0m\u001b[1;33m\u001b[0m\u001b[1;33m\u001b[0m\u001b[0m\n\u001b[0;32m      2\u001b[0m \u001b[0mx_\u001b[0m \u001b[1;33m=\u001b[0m \u001b[1;33m[\u001b[0m\u001b[1;36m1\u001b[0m\u001b[1;33m,\u001b[0m \u001b[1;36m2\u001b[0m\u001b[1;33m,\u001b[0m \u001b[1;36m3\u001b[0m\u001b[1;33m,\u001b[0m \u001b[1;36m4\u001b[0m\u001b[1;33m,\u001b[0m \u001b[1;36m5\u001b[0m\u001b[1;33m]\u001b[0m\u001b[1;33m\u001b[0m\u001b[1;33m\u001b[0m\u001b[0m\n\u001b[1;32m----> 3\u001b[1;33m \u001b[0mh\u001b[0m \u001b[1;33m=\u001b[0m \u001b[0mw\u001b[0m \u001b[1;33m*\u001b[0m \u001b[0mx_\u001b[0m \u001b[1;33m+\u001b[0m \u001b[0mb\u001b[0m\u001b[1;33m\u001b[0m\u001b[1;33m\u001b[0m\u001b[0m\n\u001b[0m\u001b[0;32m      4\u001b[0m \u001b[0mprint\u001b[0m\u001b[1;33m(\u001b[0m\u001b[0mh\u001b[0m\u001b[1;33m)\u001b[0m\u001b[1;33m\u001b[0m\u001b[1;33m\u001b[0m\u001b[0m\n",
      "\u001b[1;31mTypeError\u001b[0m: can't multiply sequence by non-int of type 'float'"
     ]
    }
   ],
   "source": [
    "# 일반 array는 에러 발생\n",
    "x_ = [1, 2, 3, 4, 5]\n",
    "h = w * x_ + b\n",
    "print(h)"
   ]
  },
  {
   "cell_type": "code",
   "execution_count": 5,
   "metadata": {},
   "outputs": [
    {
     "name": "stdout",
     "output_type": "stream",
     "text": [
      "[ 3.  5.  7.  9. 11.]\n"
     ]
    }
   ],
   "source": [
    "# numpy array로 하면 연산 가능\n",
    "x_ = np.array([1, 2, 3, 4, 5])\n",
    "h = w * x_ + b\n",
    "print(h)"
   ]
  },
  {
   "cell_type": "code",
   "execution_count": 6,
   "metadata": {},
   "outputs": [
    {
     "name": "stdout",
     "output_type": "stream",
     "text": [
      "[0.  0.  0.3 0.4 1.  0.7 1. ]\n",
      "3.3999999999999995\n"
     ]
    }
   ],
   "source": [
    "w = 2\n",
    "b = 1    # h1 = 2 * x + 1\n",
    "\n",
    "x = np.array([1, 2, 3, 4, 5, 6, 7])\n",
    "y = np.array([3, 5, 7.3, 9.4, 12, 13.7, 16])\n",
    "\n",
    "# 가설을 세우고 w, b를 구했을 때, 얼마나 실제 데이터를 잘 표현하는가 계산\n",
    "h = w * x + b\n",
    "\n",
    "# 각 점에 대한 오차\n",
    "print(np.abs(h - y))\n",
    "\n",
    "# 전체 오차의 합\n",
    "print(np.sum(np.abs(h - y)))"
   ]
  },
  {
   "cell_type": "code",
   "execution_count": 7,
   "metadata": {},
   "outputs": [
    {
     "name": "stdout",
     "output_type": "stream",
     "text": [
      "[0.1 1.1 1.8 2.7 3.1 4.4 5.1]\n",
      "18.300000000000004\n"
     ]
    }
   ],
   "source": [
    "w = 3\n",
    "b = 0.1    # h2 = 3 * x + 0.1\n",
    "\n",
    "x = np.array([1, 2, 3, 4, 5, 6, 7])\n",
    "y = np.array([3, 5, 7.3, 9.4, 12, 13.7, 16])\n",
    "\n",
    "# 다른 가설을 세우고 w, b를 구했을 때, 얼마나 실제 데이터를 잘 표현하는가 계산\n",
    "h = w * x + b\n",
    "\n",
    "# 각 점에 대한 오차\n",
    "print(np.abs(h - y))\n",
    "# 전체 오차의 합\n",
    "print(np.sum(np.abs(h - y)))\n",
    "\n",
    "# 오차가 h1보다 상대적으로 크다!\n",
    "# => h1이 더 좋은 가설이다!"
   ]
  },
  {
   "cell_type": "markdown",
   "metadata": {},
   "source": [
    "## 행렬을 이용한 학습해 구하기"
   ]
  },
  {
   "cell_type": "markdown",
   "metadata": {},
   "source": [
    "### 정방 행렬에서 최적해 구하기"
   ]
  },
  {
   "cell_type": "code",
   "execution_count": 8,
   "metadata": {},
   "outputs": [
    {
     "name": "stdout",
     "output_type": "stream",
     "text": [
      "(2, 2)\n",
      "(2, 1)\n"
     ]
    }
   ],
   "source": [
    "# 정방행렬\n",
    "A = np.array([[1, 1],\n",
    "              [2, 1]])\n",
    "y = np.array([[2],\n",
    "              [4.4]])\n",
    "\n",
    "print(A.shape)\n",
    "print(y.shape)"
   ]
  },
  {
   "cell_type": "code",
   "execution_count": 9,
   "metadata": {},
   "outputs": [
    {
     "name": "stdout",
     "output_type": "stream",
     "text": [
      "(2,)\n"
     ]
    }
   ],
   "source": [
    " # 이건 벡터라서 안됨. 행렬 연산은 항상 2차원 array\n",
    "_y = np.array([2, 4])\n",
    "print(_y.shape)"
   ]
  },
  {
   "cell_type": "code",
   "execution_count": 10,
   "metadata": {},
   "outputs": [
    {
     "name": "stdout",
     "output_type": "stream",
     "text": [
      "[[ 2.4]\n",
      " [-0.4]]\n"
     ]
    }
   ],
   "source": [
    "# matmul = 행렬곱\n",
    "# inv = 역행렬 구하기\n",
    "W = np.matmul(lin.inv(A), y)\n",
    "print(W)"
   ]
  },
  {
   "cell_type": "code",
   "execution_count": 11,
   "metadata": {},
   "outputs": [
    {
     "data": {
      "text/plain": [
       "array([[-1.,  1.],\n",
       "       [ 2., -1.]])"
      ]
     },
     "execution_count": 11,
     "metadata": {},
     "output_type": "execute_result"
    }
   ],
   "source": [
    "lin.inv(A)"
   ]
  },
  {
   "cell_type": "markdown",
   "metadata": {},
   "source": [
    "### 정방 행렬이 아닐 때 최적해 구하기"
   ]
  },
  {
   "cell_type": "code",
   "execution_count": 12,
   "metadata": {},
   "outputs": [
    {
     "name": "stdout",
     "output_type": "stream",
     "text": [
      "[[ 2.54]\n",
      " [-0.7 ]]\n"
     ]
    }
   ],
   "source": [
    "A = np.array([[1, 1], [2,1], [3,1], [4, 1]])\n",
    "y = np.array([[2], [4.4], [6.4], [9.8]])\n",
    "\n",
    "# pinv = (A' * A)-1 A1\n",
    "A_ = lin.inv(np.matmul(A.T, A))\n",
    "W = np.matmul(np.matmul(A_, A.T), y)   # traning\n",
    "print(W)"
   ]
  },
  {
   "cell_type": "markdown",
   "metadata": {},
   "source": [
    "위 계산을 바탕으로 아래와 같은 가설이 도출된다.\n",
    "\n",
    "h = 2.54 * x - 0.7 "
   ]
  },
  {
   "cell_type": "code",
   "execution_count": 13,
   "metadata": {},
   "outputs": [
    {
     "name": "stdout",
     "output_type": "stream",
     "text": [
      "[[1.84]\n",
      " [4.38]\n",
      " [6.92]\n",
      " [9.46]]\n"
     ]
    }
   ],
   "source": [
    "# A 값에 따른 예측값 출력\n",
    "h = np.matmul(A, W)   # prediction\n",
    "print(h)"
   ]
  },
  {
   "cell_type": "code",
   "execution_count": 14,
   "metadata": {},
   "outputs": [
    {
     "name": "stdout",
     "output_type": "stream",
     "text": [
      "0.3209361307176245\n"
     ]
    }
   ],
   "source": [
    "RMSE = np.sqrt(np.mean((y-h)**2))\n",
    "print(RMSE)"
   ]
  },
  {
   "cell_type": "markdown",
   "metadata": {},
   "source": [
    "## 연습문제 (선형 회귀 알고리즘 구현해보기)"
   ]
  },
  {
   "cell_type": "code",
   "execution_count": 15,
   "metadata": {},
   "outputs": [
    {
     "data": {
      "text/plain": [
       "[<matplotlib.lines.Line2D at 0x25249375688>]"
      ]
     },
     "execution_count": 15,
     "metadata": {},
     "output_type": "execute_result"
    },
    {
     "data": {
      "image/png": "[encoded data removed]",
      "text/plain": [
       "<Figure size 432x288 with 1 Axes>"
      ]
     },
     "metadata": {
      "needs_background": "light"
     },
     "output_type": "display_data"
    }
   ],
   "source": [
    "import matplotlib.pyplot as plt\n",
    "\n",
    "# x: 공부한 시간\n",
    "# y: 점수\n",
    "x = np.array([4, 9, 10, 14, 4, 7, 12, 22, 1, 3, 8, 11, 5, 6, 10, 11, 16, 13, 13, 10])\n",
    "y = np.array([390, 580, 650, 730, 410, 530, 600, 790, 350, 400, 590, 640, 450, 520, 690, 690, 770, 700, 730, 640])\n",
    "plt.plot(x, y, '*')"
   ]
  },
  {
   "cell_type": "markdown",
   "metadata": {},
   "source": [
    "### 1번 문제 ] 13, 15, 20 시간 공부하면 SAT는 몇점인지 예측"
   ]
  },
  {
   "cell_type": "code",
   "execution_count": 16,
   "metadata": {},
   "outputs": [
    {
     "name": "stdout",
     "output_type": "stream",
     "text": [
      "[615.1 655.7 757.2]\n"
     ]
    }
   ],
   "source": [
    "# w, b가 주어진 상태\n",
    "w = 20.3\n",
    "b = 351.2\n",
    "x = [13, 15, 20]\n",
    "y = np.array(x) * w + b\n",
    "print(y)"
   ]
  },
  {
   "cell_type": "markdown",
   "metadata": {},
   "source": [
    "### 2번 문제 ] SAT 840점을 얻기 위해 몇 시간 공부해야하는가?"
   ]
  },
  {
   "cell_type": "code",
   "execution_count": 17,
   "metadata": {},
   "outputs": [
    {
     "name": "stdout",
     "output_type": "stream",
     "text": [
      "840\n",
      "351.2\n"
     ]
    }
   ],
   "source": [
    "y = 840\n",
    "x = (y - b) / w\n",
    "print(y)\n",
    "print(b)"
   ]
  },
  {
   "cell_type": "markdown",
   "metadata": {},
   "source": [
    "### 3번 문제 ] 추정 w, b로부터 발생하는 학습 오차는 얼마인가? (RMSE)"
   ]
  },
  {
   "cell_type": "code",
   "execution_count": 18,
   "metadata": {},
   "outputs": [
    {
     "name": "stdout",
     "output_type": "stream",
     "text": [
      "(20, 1)\n",
      "(20, 1)\n"
     ]
    }
   ],
   "source": [
    "# x와 y를 각각 이차원 행렬로 만들기\n",
    "# 맨 바깥쪽을 []로 감싸고, T 해주면 각각 []로 감싸는 노가다 안해도됨!\n",
    "x = np.array([[4, 9, 10, 14, 4, 7, 12, 22, 1, 3, 8, 11, 5, 6, 10, 11, 16, 13, 13, 10]]).T\n",
    "y = np.array([[390, 580, 650, 730, 410, 530, 600, 790, 350, 400, 590, 640, 450, 520, 690, 690, 770, 700, 730, 640]]).T\n",
    "\n",
    "print(x.shape)\n",
    "print(y.shape)"
   ]
  },
  {
   "cell_type": "code",
   "execution_count": 19,
   "metadata": {},
   "outputs": [
    {
     "name": "stdout",
     "output_type": "stream",
     "text": [
      "72.56996968443626\n"
     ]
    }
   ],
   "source": [
    "error = (y - (x * w + b)) ** 2\n",
    "result = np.sqrt(np.mean(error))\n",
    "\n",
    "print(result)"
   ]
  },
  {
   "cell_type": "markdown",
   "metadata": {},
   "source": [
    "### 최적의 가중치 w, b는 얼마인가?"
   ]
  },
  {
   "cell_type": "code",
   "execution_count": 20,
   "metadata": {},
   "outputs": [
    {
     "name": "stdout",
     "output_type": "stream",
     "text": [
      "(20, 2)\n",
      "[[ 25.32646778]\n",
      " [353.1648795 ]]\n"
     ]
    }
   ],
   "source": [
    "# 1로 구성된 행렬을 x와 같은 길이로 생성해줘\n",
    "# np.ones((x.shape[0], 1))\n",
    "\n",
    "# x랑 1행렬이랑 합치기\n",
    "A = np.append(x, np.ones((x.shape[0], 1)), axis = 1)\n",
    "# print(A)\n",
    "print(A.shape)\n",
    "W = np.matmul(lin.pinv(A), y)    # (A'T*A)-1*A'\n",
    "print(W)"
   ]
  },
  {
   "cell_type": "code",
   "execution_count": 21,
   "metadata": {},
   "outputs": [],
   "source": [
    "# 이전 모델보다 좋은가?"
   ]
  },
  {
   "cell_type": "code",
   "execution_count": 22,
   "metadata": {},
   "outputs": [
    {
     "name": "stdout",
     "output_type": "stream",
     "text": [
      "72.56996968443626\n",
      "47.1664900003957\n"
     ]
    }
   ],
   "source": [
    "w = W[0]\n",
    "b = W[1]\n",
    "error2 = (y - (x * w +b)) ** 2\n",
    "# error2 = (y - np.matmul(A, W))**2\n",
    "result2 = np.sqrt(np.mean(error2))\n",
    "\n",
    "print(result)\n",
    "print(result2)"
   ]
  },
  {
   "cell_type": "markdown",
   "metadata": {},
   "source": [
    "### 잘 학습됐는지 시각화"
   ]
  },
  {
   "cell_type": "code",
   "execution_count": 23,
   "metadata": {},
   "outputs": [
    {
     "data": {
      "text/plain": [
       "[<matplotlib.lines.Line2D at 0x25249684e48>]"
      ]
     },
     "execution_count": 23,
     "metadata": {},
     "output_type": "execute_result"
    },
    {
     "data": {
      "image/png": "[encoded data removed]",
      "text/plain": [
       "<Figure size 432x288 with 1 Axes>"
      ]
     },
     "metadata": {
      "needs_background": "light"
     },
     "output_type": "display_data"
    }
   ],
   "source": [
    "plt.plot(x[:,0], y[:,0], '*') # [:,0] 모든 행을 다 가져오고 0번째 열만 가져와라\n",
    "# print(x[:,0])\n",
    "\n",
    "x_ = np.linspace(1, 30, 60)   # 1부터 30까지의 구간에 60개의 점을 만들어라\n",
    "# print(x_)\n",
    "\n",
    "h = x_ * w +b\n",
    "plt.plot(x_, h, 'r')"
   ]
  },
  {
   "cell_type": "code",
   "execution_count": 24,
   "metadata": {},
   "outputs": [
    {
     "data": {
      "text/plain": [
       "[<matplotlib.lines.Line2D at 0x252497269c8>]"
      ]
     },
     "execution_count": 24,
     "metadata": {},
     "output_type": "execute_result"
    },
    {
     "data": {
      "image/png": "[encoded data removed]",
      "text/plain": [
       "<Figure size 432x288 with 1 Axes>"
      ]
     },
     "metadata": {
      "needs_background": "light"
     },
     "output_type": "display_data"
    }
   ],
   "source": [
    "plt.plot(x[:,0], y[:,0], '*')\n",
    "w = 17\n",
    "b = 240.6\n",
    "x_ = np.linspace(1, 30, 60)   # 1부터 30까지의 구간에 60개의 점을 만들어라\n",
    "h = x_ * w +b\n",
    "plt.plot(x_, h, 'r')"
   ]
  },
  {
   "cell_type": "code",
   "execution_count": 25,
   "metadata": {},
   "outputs": [
    {
     "data": {
      "text/plain": [
       "[<matplotlib.lines.Line2D at 0x25249779f88>]"
      ]
     },
     "execution_count": 25,
     "metadata": {},
     "output_type": "execute_result"
    },
    {
     "data": {
      "image/png": "[encoded data removed]",
      "text/plain": [
       "<Figure size 432x288 with 1 Axes>"
      ]
     },
     "metadata": {
      "needs_background": "light"
     },
     "output_type": "display_data"
    }
   ],
   "source": [
    "plt.plot(x_, h, 'b')"
   ]
  },
  {
   "cell_type": "code",
   "execution_count": 26,
   "metadata": {},
   "outputs": [
    {
     "data": {
      "text/plain": [
       "[<matplotlib.lines.Line2D at 0x252497e5888>]"
      ]
     },
     "execution_count": 26,
     "metadata": {},
     "output_type": "execute_result"
    },
    {
     "data": {
      "image/png": "[encoded data removed]",
      "text/plain": [
       "<Figure size 432x288 with 1 Axes>"
      ]
     },
     "metadata": {
      "needs_background": "light"
     },
     "output_type": "display_data"
    }
   ],
   "source": [
    "plt.plot(x_, h, 'b*')"
   ]
  },
  {
   "cell_type": "markdown",
   "metadata": {},
   "source": [
    "## 연습문제 (차원 변형을 통한 분류)"
   ]
  },
  {
   "cell_type": "code",
   "execution_count": 41,
   "metadata": {},
   "outputs": [],
   "source": [
    "# 차원이 늘어난다고 행렬의 차원이 늘어나는게 x 행렬은 항상 2차원\n",
    "Interest_Rate =  np.array([[2.75,2.5,2.5,2.5,2.5,2.5,2.5,2.25,2.25,2.25,2,2,2,1.75,1.75,1.75,1.75,1.75,1.75,1.75,1.75,1.75,1.75,1.75]]).T\n",
    "Unemployment_Rate = np.array([[5.3,5.3,5.3,5.3,5.4,5.6,5.5,5.5,5.5,5.6,5.7,5.9,6,5.9,5.8,6.1,6.2,6.1,6.1,6.1,5.9,6.2,6.2,6.1]]).T\n",
    "Stock_Index_Price =  [1464,1394,1357,1293,1256,1254,1234,1195,1159,1167,1130,1075,1047,965,943,958,971,949,884,866,876,822,704,719]"
   ]
  },
  {
   "cell_type": "code",
   "execution_count": 28,
   "metadata": {},
   "outputs": [
    {
     "data": {
      "text/plain": [
       "[<matplotlib.lines.Line2D at 0x2524984c848>]"
      ]
     },
     "execution_count": 28,
     "metadata": {},
     "output_type": "execute_result"
    },
    {
     "data": {
      "image/png": "[encoded data removed]",
      "text/plain": [
       "<Figure size 432x288 with 1 Axes>"
      ]
     },
     "metadata": {
      "needs_background": "light"
     },
     "output_type": "display_data"
    }
   ],
   "source": [
    "# 주식과 이자율은 비례관계인것으로 보여짐\n",
    "plt.plot(Interest_Rate[:,0], Stock_Index_Price, '*')"
   ]
  },
  {
   "cell_type": "code",
   "execution_count": 29,
   "metadata": {},
   "outputs": [
    {
     "data": {
      "text/plain": [
       "[<matplotlib.lines.Line2D at 0x252498b6b88>]"
      ]
     },
     "execution_count": 29,
     "metadata": {},
     "output_type": "execute_result"
    },
    {
     "data": {
      "image/png": "[encoded data removed]",
      "text/plain": [
       "<Figure size 432x288 with 1 Axes>"
      ]
     },
     "metadata": {
      "needs_background": "light"
     },
     "output_type": "display_data"
    }
   ],
   "source": [
    "# 실업률과 주식은 반비례관계로 보임\n",
    "plt.plot(Unemployment_Rate[:,0], Stock_Index_Price, '*')"
   ]
  },
  {
   "cell_type": "code",
   "execution_count": 45,
   "metadata": {},
   "outputs": [
    {
     "data": {
      "text/plain": [
       "array([[2.75, 5.3 , 1.  ],\n",
       "       [2.5 , 5.3 , 1.  ],\n",
       "       [2.5 , 5.3 , 1.  ],\n",
       "       [2.5 , 5.3 , 1.  ],\n",
       "       [2.5 , 5.4 , 1.  ],\n",
       "       [2.5 , 5.6 , 1.  ],\n",
       "       [2.5 , 5.5 , 1.  ],\n",
       "       [2.25, 5.5 , 1.  ],\n",
       "       [2.25, 5.5 , 1.  ],\n",
       "       [2.25, 5.6 , 1.  ],\n",
       "       [2.  , 5.7 , 1.  ],\n",
       "       [2.  , 5.9 , 1.  ],\n",
       "       [2.  , 6.  , 1.  ],\n",
       "       [1.75, 5.9 , 1.  ],\n",
       "       [1.75, 5.8 , 1.  ],\n",
       "       [1.75, 6.1 , 1.  ],\n",
       "       [1.75, 6.2 , 1.  ],\n",
       "       [1.75, 6.1 , 1.  ],\n",
       "       [1.75, 6.1 , 1.  ],\n",
       "       [1.75, 6.1 , 1.  ],\n",
       "       [1.75, 5.9 , 1.  ],\n",
       "       [1.75, 6.2 , 1.  ],\n",
       "       [1.75, 6.2 , 1.  ],\n",
       "       [1.75, 6.1 , 1.  ]])"
      ]
     },
     "execution_count": 45,
     "metadata": {},
     "output_type": "execute_result"
    }
   ],
   "source": [
    "A = np.append(Interest_Rate, Unemployment_Rate, axis=1)\n",
    "A = np.append(A, np.ones((A.shape[0], 1)), axis=1)\n",
    "A"
   ]
  },
  {
   "cell_type": "code",
   "execution_count": 46,
   "metadata": {},
   "outputs": [
    {
     "name": "stdout",
     "output_type": "stream",
     "text": [
      "[ 345.54008701 -250.14657137 1798.40397763]\n"
     ]
    }
   ],
   "source": [
    "W = np.matmul(lin.pinv(A), Stock_Index_Price)\n",
    "print(W)"
   ]
  },
  {
   "cell_type": "code",
   "execution_count": 47,
   "metadata": {},
   "outputs": [
    {
     "name": "stdout",
     "output_type": "stream",
     "text": [
      "[2009.74967889 2034.76433603 2009.74967889 2044.30368759]\n"
     ]
    }
   ],
   "source": [
    "# 4개의 샘플에서 1개이 데이터 예측\n",
    "x_data = np.array([\n",
    "    [5.1, 6.2, 1],\n",
    "    [5.1, 6.1, 1],\n",
    "    [5.1, 6.2, 1],\n",
    "    [5.2, 6.2, 1]])\n",
    "result = np.matmul(x_data, W)\n",
    "print(result)"
   ]
  },
  {
   "cell_type": "code",
   "execution_count": 48,
   "metadata": {},
   "outputs": [],
   "source": [
    "from mpl_toolkits import mplot3d\n",
    "%matplotlib qt5"
   ]
  },
  {
   "cell_type": "code",
   "execution_count": 49,
   "metadata": {},
   "outputs": [
    {
     "data": {
      "text/plain": [
       "<mpl_toolkits.mplot3d.art3d.Path3DCollection at 0x2524f6a3888>"
      ]
     },
     "execution_count": 49,
     "metadata": {},
     "output_type": "execute_result"
    }
   ],
   "source": [
    "fig = plt.figure()\n",
    "ax = plt.axes(projection = \"3d\")\n",
    "\n",
    "ax.scatter3D(Interest_Rate[:,0], Unemployment_Rate[:,0], Stock_Index_Price)"
   ]
  },
  {
   "cell_type": "code",
   "execution_count": 35,
   "metadata": {},
   "outputs": [],
   "source": [
    "# A = np.append(Interest_Rate, np.ones((A.shape[0], 1)), axis=1)\n",
    "# A = np.append(A, Unemployment_Rate, axis=1)\n",
    "\n",
    "# W = np.matmul(lin.pinv(A), Stock_Index_Price)\n",
    "\n",
    "# # 이런식으로 순서 바꿔도 상관 없음 (y = ax + b 나 y = b + ax나 똑같기 때문)\n",
    "# # 다만 데이터 순서에 맞춰서 잘 참조해야한다"
   ]
  },
  {
   "cell_type": "code",
   "execution_count": 50,
   "metadata": {},
   "outputs": [
    {
     "name": "stdout",
     "output_type": "stream",
     "text": [
      "[[0.5 5.  1. ]\n",
      " [0.5 5.1 1. ]\n",
      " [0.5 5.2 1. ]\n",
      " ...\n",
      " [2.9 6.7 1. ]\n",
      " [2.9 6.8 1. ]\n",
      " [2.9 6.9 1. ]]\n"
     ]
    },
    {
     "data": {
      "text/plain": [
       "<mpl_toolkits.mplot3d.art3d.Path3DCollection at 0x2524fe87388>"
      ]
     },
     "execution_count": 50,
     "metadata": {},
     "output_type": "execute_result"
    }
   ],
   "source": [
    "xx, yy = np.mgrid[0.5:3:0.1, 5:7:0.1]\n",
    "grid = np.c_[xx.flatten(), yy.flatten()]\n",
    "\n",
    "x_ = np.append(grid, np.ones((grid.shape[0] , 1)) , axis = 1)\n",
    "print(x_)\n",
    "result = np.matmul(x_, W)\n",
    "\n",
    "fig = plt.figure()\n",
    "ax = plt.axes(projection=\"3d\")\n",
    "\n",
    "ax.scatter3D(Interest_Rate[:,0],Unemployment_Rate[:,0], Stock_Index_Price, 'b')\n",
    "ax.scatter3D(xx.flatten(), yy.flatten(), result, 'r')"
   ]
  },
  {
   "cell_type": "code",
   "execution_count": 37,
   "metadata": {},
   "outputs": [
    {
     "name": "stdout",
     "output_type": "stream",
     "text": [
      "[[1.  1.  1.  1. ]\n",
      " [1.5 1.5 1.5 1.5]\n",
      " [2.  2.  2.  2. ]\n",
      " [2.5 2.5 2.5 2.5]]\n",
      "[[-4.  -3.5 -3.  -2.5]\n",
      " [-4.  -3.5 -3.  -2.5]\n",
      " [-4.  -3.5 -3.  -2.5]\n",
      " [-4.  -3.5 -3.  -2.5]]\n"
     ]
    }
   ],
   "source": [
    "xx, yy = np.mgrid[1:3:0.5, -4:-2:0.5]\n",
    "print(xx)\n",
    "print(yy)"
   ]
  },
  {
   "cell_type": "code",
   "execution_count": 38,
   "metadata": {},
   "outputs": [
    {
     "name": "stdout",
     "output_type": "stream",
     "text": [
      "[1.  1.  1.  1.  1.5 1.5 1.5 1.5 2.  2.  2.  2.  2.5 2.5 2.5 2.5]\n",
      "[[ 1.  -4. ]\n",
      " [ 1.  -3.5]\n",
      " [ 1.  -3. ]\n",
      " [ 1.  -2.5]\n",
      " [ 1.5 -4. ]\n",
      " [ 1.5 -3.5]\n",
      " [ 1.5 -3. ]\n",
      " [ 1.5 -2.5]\n",
      " [ 2.  -4. ]\n",
      " [ 2.  -3.5]\n",
      " [ 2.  -3. ]\n",
      " [ 2.  -2.5]\n",
      " [ 2.5 -4. ]\n",
      " [ 2.5 -3.5]\n",
      " [ 2.5 -3. ]\n",
      " [ 2.5 -2.5]]\n"
     ]
    }
   ],
   "source": [
    "print(xx.flatten())  # 2차원 배열을 1차원으로 만듦\n",
    "grid = np.c_[xx.flatten(), yy.flatten()]  # 두 배열을 조합해서 하나로 만듦\n",
    "print(grid)"
   ]
  },
  {
   "cell_type": "code",
   "execution_count": null,
   "metadata": {},
   "outputs": [],
   "source": []
  }
 ],
 "metadata": {
  "kernelspec": {
   "display_name": "Python 3",
   "language": "python",
   "name": "python3"
  },
  "language_info": {
   "codemirror_mode": {
    "name": "ipython",
    "version": 3
   },
   "file_extension": ".py",
   "mimetype": "text/x-python",
   "name": "python",
   "nbconvert_exporter": "python",
   "pygments_lexer": "ipython3",
   "version": "3.7.6"
  },
  "toc": {
   "base_numbering": 1,
   "nav_menu": {},
   "number_sections": false,
   "sideBar": true,
   "skip_h1_title": false,
   "title_cell": "Table of Contents",
   "title_sidebar": "Contents",
   "toc_cell": false,
   "toc_position": {},
   "toc_section_display": true,
   "toc_window_display": false
  }
 },
 "nbformat": 4,
 "nbformat_minor": 4
}
