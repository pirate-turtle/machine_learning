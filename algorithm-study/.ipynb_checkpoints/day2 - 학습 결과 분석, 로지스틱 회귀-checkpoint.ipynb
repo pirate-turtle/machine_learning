{
 "cells": [
  {
   "cell_type": "code",
   "execution_count": 82,
   "metadata": {},
   "outputs": [],
   "source": [
    "import numpy as np\n",
    "import pandas as pd\n",
    "from sklearn import datasets\n",
    "from sklearn.linear_model import LinearRegression\n",
    "import matplotlib.pyplot as plt\n",
    "from sklearn.linear_model import LogisticRegression"
   ]
  },
  {
   "cell_type": "code",
   "execution_count": 2,
   "metadata": {},
   "outputs": [],
   "source": [
    "redwine = pd.read_csv(\"https://archive.ics.uci.edu/ml/machine-learning-databases/wine-quality/winequality-red.csv\", sep=\";\", header=0)\n",
    "redwine[\"type\"] = \"red\"\n",
    "whitewine = pd.read_csv(\"https://archive.ics.uci.edu/ml/machine-learning-databases/wine-quality/winequality-white.csv\", sep=\";\", header=0)\n",
    "whitewine[\"type\"] = \"white\"\n",
    "wine = redwine.append(whitewine)"
   ]
  },
  {
   "cell_type": "code",
   "execution_count": 3,
   "metadata": {},
   "outputs": [
    {
     "data": {
      "text/html": [
       "<div>\n",
       "<style scoped>\n",
       "    .dataframe tbody tr th:only-of-type {\n",
       "        vertical-align: middle;\n",
       "    }\n",
       "\n",
       "    .dataframe tbody tr th {\n",
       "        vertical-align: top;\n",
       "    }\n",
       "\n",
       "    .dataframe thead th {\n",
       "        text-align: right;\n",
       "    }\n",
       "</style>\n",
       "<table border=\"1\" class=\"dataframe\">\n",
       "  <thead>\n",
       "    <tr style=\"text-align: right;\">\n",
       "      <th></th>\n",
       "      <th>fixed acidity</th>\n",
       "      <th>volatile acidity</th>\n",
       "      <th>citric acid</th>\n",
       "      <th>residual sugar</th>\n",
       "      <th>chlorides</th>\n",
       "      <th>free sulfur dioxide</th>\n",
       "      <th>total sulfur dioxide</th>\n",
       "      <th>density</th>\n",
       "      <th>pH</th>\n",
       "      <th>sulphates</th>\n",
       "      <th>alcohol</th>\n",
       "      <th>quality</th>\n",
       "      <th>type</th>\n",
       "    </tr>\n",
       "  </thead>\n",
       "  <tbody>\n",
       "    <tr>\n",
       "      <th>0</th>\n",
       "      <td>7.4</td>\n",
       "      <td>0.700</td>\n",
       "      <td>0.00</td>\n",
       "      <td>1.9</td>\n",
       "      <td>0.076</td>\n",
       "      <td>11.0</td>\n",
       "      <td>34.0</td>\n",
       "      <td>0.99780</td>\n",
       "      <td>3.51</td>\n",
       "      <td>0.56</td>\n",
       "      <td>9.4</td>\n",
       "      <td>5</td>\n",
       "      <td>red</td>\n",
       "    </tr>\n",
       "    <tr>\n",
       "      <th>1</th>\n",
       "      <td>7.8</td>\n",
       "      <td>0.880</td>\n",
       "      <td>0.00</td>\n",
       "      <td>2.6</td>\n",
       "      <td>0.098</td>\n",
       "      <td>25.0</td>\n",
       "      <td>67.0</td>\n",
       "      <td>0.99680</td>\n",
       "      <td>3.20</td>\n",
       "      <td>0.68</td>\n",
       "      <td>9.8</td>\n",
       "      <td>5</td>\n",
       "      <td>red</td>\n",
       "    </tr>\n",
       "    <tr>\n",
       "      <th>2</th>\n",
       "      <td>7.8</td>\n",
       "      <td>0.760</td>\n",
       "      <td>0.04</td>\n",
       "      <td>2.3</td>\n",
       "      <td>0.092</td>\n",
       "      <td>15.0</td>\n",
       "      <td>54.0</td>\n",
       "      <td>0.99700</td>\n",
       "      <td>3.26</td>\n",
       "      <td>0.65</td>\n",
       "      <td>9.8</td>\n",
       "      <td>5</td>\n",
       "      <td>red</td>\n",
       "    </tr>\n",
       "    <tr>\n",
       "      <th>3</th>\n",
       "      <td>11.2</td>\n",
       "      <td>0.280</td>\n",
       "      <td>0.56</td>\n",
       "      <td>1.9</td>\n",
       "      <td>0.075</td>\n",
       "      <td>17.0</td>\n",
       "      <td>60.0</td>\n",
       "      <td>0.99800</td>\n",
       "      <td>3.16</td>\n",
       "      <td>0.58</td>\n",
       "      <td>9.8</td>\n",
       "      <td>6</td>\n",
       "      <td>red</td>\n",
       "    </tr>\n",
       "    <tr>\n",
       "      <th>4</th>\n",
       "      <td>7.4</td>\n",
       "      <td>0.700</td>\n",
       "      <td>0.00</td>\n",
       "      <td>1.9</td>\n",
       "      <td>0.076</td>\n",
       "      <td>11.0</td>\n",
       "      <td>34.0</td>\n",
       "      <td>0.99780</td>\n",
       "      <td>3.51</td>\n",
       "      <td>0.56</td>\n",
       "      <td>9.4</td>\n",
       "      <td>5</td>\n",
       "      <td>red</td>\n",
       "    </tr>\n",
       "    <tr>\n",
       "      <th>...</th>\n",
       "      <td>...</td>\n",
       "      <td>...</td>\n",
       "      <td>...</td>\n",
       "      <td>...</td>\n",
       "      <td>...</td>\n",
       "      <td>...</td>\n",
       "      <td>...</td>\n",
       "      <td>...</td>\n",
       "      <td>...</td>\n",
       "      <td>...</td>\n",
       "      <td>...</td>\n",
       "      <td>...</td>\n",
       "      <td>...</td>\n",
       "    </tr>\n",
       "    <tr>\n",
       "      <th>1594</th>\n",
       "      <td>6.2</td>\n",
       "      <td>0.600</td>\n",
       "      <td>0.08</td>\n",
       "      <td>2.0</td>\n",
       "      <td>0.090</td>\n",
       "      <td>32.0</td>\n",
       "      <td>44.0</td>\n",
       "      <td>0.99490</td>\n",
       "      <td>3.45</td>\n",
       "      <td>0.58</td>\n",
       "      <td>10.5</td>\n",
       "      <td>5</td>\n",
       "      <td>red</td>\n",
       "    </tr>\n",
       "    <tr>\n",
       "      <th>1595</th>\n",
       "      <td>5.9</td>\n",
       "      <td>0.550</td>\n",
       "      <td>0.10</td>\n",
       "      <td>2.2</td>\n",
       "      <td>0.062</td>\n",
       "      <td>39.0</td>\n",
       "      <td>51.0</td>\n",
       "      <td>0.99512</td>\n",
       "      <td>3.52</td>\n",
       "      <td>0.76</td>\n",
       "      <td>11.2</td>\n",
       "      <td>6</td>\n",
       "      <td>red</td>\n",
       "    </tr>\n",
       "    <tr>\n",
       "      <th>1596</th>\n",
       "      <td>6.3</td>\n",
       "      <td>0.510</td>\n",
       "      <td>0.13</td>\n",
       "      <td>2.3</td>\n",
       "      <td>0.076</td>\n",
       "      <td>29.0</td>\n",
       "      <td>40.0</td>\n",
       "      <td>0.99574</td>\n",
       "      <td>3.42</td>\n",
       "      <td>0.75</td>\n",
       "      <td>11.0</td>\n",
       "      <td>6</td>\n",
       "      <td>red</td>\n",
       "    </tr>\n",
       "    <tr>\n",
       "      <th>1597</th>\n",
       "      <td>5.9</td>\n",
       "      <td>0.645</td>\n",
       "      <td>0.12</td>\n",
       "      <td>2.0</td>\n",
       "      <td>0.075</td>\n",
       "      <td>32.0</td>\n",
       "      <td>44.0</td>\n",
       "      <td>0.99547</td>\n",
       "      <td>3.57</td>\n",
       "      <td>0.71</td>\n",
       "      <td>10.2</td>\n",
       "      <td>5</td>\n",
       "      <td>red</td>\n",
       "    </tr>\n",
       "    <tr>\n",
       "      <th>1598</th>\n",
       "      <td>6.0</td>\n",
       "      <td>0.310</td>\n",
       "      <td>0.47</td>\n",
       "      <td>3.6</td>\n",
       "      <td>0.067</td>\n",
       "      <td>18.0</td>\n",
       "      <td>42.0</td>\n",
       "      <td>0.99549</td>\n",
       "      <td>3.39</td>\n",
       "      <td>0.66</td>\n",
       "      <td>11.0</td>\n",
       "      <td>6</td>\n",
       "      <td>red</td>\n",
       "    </tr>\n",
       "  </tbody>\n",
       "</table>\n",
       "<p>1599 rows × 13 columns</p>\n",
       "</div>"
      ],
      "text/plain": [
       "      fixed acidity  volatile acidity  citric acid  residual sugar  chlorides  \\\n",
       "0               7.4             0.700         0.00             1.9      0.076   \n",
       "1               7.8             0.880         0.00             2.6      0.098   \n",
       "2               7.8             0.760         0.04             2.3      0.092   \n",
       "3              11.2             0.280         0.56             1.9      0.075   \n",
       "4               7.4             0.700         0.00             1.9      0.076   \n",
       "...             ...               ...          ...             ...        ...   \n",
       "1594            6.2             0.600         0.08             2.0      0.090   \n",
       "1595            5.9             0.550         0.10             2.2      0.062   \n",
       "1596            6.3             0.510         0.13             2.3      0.076   \n",
       "1597            5.9             0.645         0.12             2.0      0.075   \n",
       "1598            6.0             0.310         0.47             3.6      0.067   \n",
       "\n",
       "      free sulfur dioxide  total sulfur dioxide  density    pH  sulphates  \\\n",
       "0                    11.0                  34.0  0.99780  3.51       0.56   \n",
       "1                    25.0                  67.0  0.99680  3.20       0.68   \n",
       "2                    15.0                  54.0  0.99700  3.26       0.65   \n",
       "3                    17.0                  60.0  0.99800  3.16       0.58   \n",
       "4                    11.0                  34.0  0.99780  3.51       0.56   \n",
       "...                   ...                   ...      ...   ...        ...   \n",
       "1594                 32.0                  44.0  0.99490  3.45       0.58   \n",
       "1595                 39.0                  51.0  0.99512  3.52       0.76   \n",
       "1596                 29.0                  40.0  0.99574  3.42       0.75   \n",
       "1597                 32.0                  44.0  0.99547  3.57       0.71   \n",
       "1598                 18.0                  42.0  0.99549  3.39       0.66   \n",
       "\n",
       "      alcohol  quality type  \n",
       "0         9.4        5  red  \n",
       "1         9.8        5  red  \n",
       "2         9.8        5  red  \n",
       "3         9.8        6  red  \n",
       "4         9.4        5  red  \n",
       "...       ...      ...  ...  \n",
       "1594     10.5        5  red  \n",
       "1595     11.2        6  red  \n",
       "1596     11.0        6  red  \n",
       "1597     10.2        5  red  \n",
       "1598     11.0        6  red  \n",
       "\n",
       "[1599 rows x 13 columns]"
      ]
     },
     "execution_count": 3,
     "metadata": {},
     "output_type": "execute_result"
    }
   ],
   "source": [
    "redwine.shape\n",
    "redwine"
   ]
  },
  {
   "cell_type": "markdown",
   "metadata": {},
   "source": [
    "quality를 y값, 그 외를 특징값으로 본다"
   ]
  },
  {
   "cell_type": "code",
   "execution_count": 4,
   "metadata": {},
   "outputs": [
    {
     "data": {
      "text/plain": [
       "(6497, 13)"
      ]
     },
     "execution_count": 4,
     "metadata": {},
     "output_type": "execute_result"
    }
   ],
   "source": [
    "wine.shape"
   ]
  },
  {
   "cell_type": "code",
   "execution_count": 5,
   "metadata": {},
   "outputs": [
    {
     "data": {
      "text/plain": [
       "(6497, 11)"
      ]
     },
     "execution_count": 5,
     "metadata": {},
     "output_type": "execute_result"
    }
   ],
   "source": [
    "# 불필요한 데이터 제거\n",
    "X = wine.drop([\"type\", \"quality\"], axis=1)\n",
    "X.shape\n",
    "# 11개의 데이터. 11차원이라는 의미"
   ]
  },
  {
   "cell_type": "code",
   "execution_count": 7,
   "metadata": {},
   "outputs": [
    {
     "name": "stdout",
     "output_type": "stream",
     "text": [
      "0       5\n",
      "1       5\n",
      "2       5\n",
      "3       6\n",
      "4       5\n",
      "       ..\n",
      "4893    6\n",
      "4894    5\n",
      "4895    6\n",
      "4896    7\n",
      "4897    6\n",
      "Name: quality, Length: 6497, dtype: int64\n",
      "(6497,)\n"
     ]
    }
   ],
   "source": [
    "y = wine.quality\n",
    "print(y)\n",
    "print(y.shape)"
   ]
  },
  {
   "cell_type": "markdown",
   "metadata": {},
   "source": [
    "# 선형회귀 모델"
   ]
  },
  {
   "cell_type": "code",
   "execution_count": 8,
   "metadata": {},
   "outputs": [],
   "source": [
    "# 선형회귀 모델로 최적값 찾을 예정\n",
    "regr = LinearRegression()  # 객체 생성"
   ]
  },
  {
   "cell_type": "code",
   "execution_count": 9,
   "metadata": {},
   "outputs": [
    {
     "data": {
      "text/plain": [
       "LinearRegression(copy_X=True, fit_intercept=True, n_jobs=None, normalize=False)"
      ]
     },
     "execution_count": 9,
     "metadata": {},
     "output_type": "execute_result"
    }
   ],
   "source": [
    "# 학습시켜주세요 (알고리즘이 간단해서 금방 끝남)\n",
    "regr.fit(X, y)"
   ]
  },
  {
   "cell_type": "code",
   "execution_count": 15,
   "metadata": {},
   "outputs": [
    {
     "name": "stdout",
     "output_type": "stream",
     "text": [
      "0       0.002393\n",
      "1       0.075007\n",
      "2       0.034663\n",
      "3       0.319667\n",
      "4       0.002393\n",
      "          ...   \n",
      "4893    0.168984\n",
      "4894    0.608278\n",
      "4895    0.580639\n",
      "4896    0.567344\n",
      "4897    0.205727\n",
      "Name: quality, Length: 6497, dtype: float64\n"
     ]
    }
   ],
   "source": [
    "# 예측\n",
    "r = regr.predict(X)\n",
    "\n",
    "# 예측 후 실제 값과 비교하여 오차 확인\n",
    "print(np.abs(y - r))"
   ]
  },
  {
   "cell_type": "code",
   "execution_count": 16,
   "metadata": {},
   "outputs": [
    {
     "name": "stdout",
     "output_type": "stream",
     "text": [
      "0.568315902311135\n"
     ]
    }
   ],
   "source": [
    "# 어떻게 잘 학습된 모델인지 알 수 있을까?\n",
    "# 평균적인 오차율을 구해볼까?\n",
    "# 근데 수치가 애매함... \n",
    "# 5등급으로 잘 분류한건 몇개고 잘못분류한건 몇개고 그런 걸 알 수 없음\n",
    "print(np.mean(np.abs(y - r)))"
   ]
  },
  {
   "cell_type": "code",
   "execution_count": 17,
   "metadata": {},
   "outputs": [
    {
     "name": "stdout",
     "output_type": "stream",
     "text": [
      "[5. 5. 5. ... 5. 6. 6.]\n"
     ]
    }
   ],
   "source": [
    "# 실제 등급은 정수이므로 반올림\n",
    "r = regr.predict(X)\n",
    "print(np.round(r))"
   ]
  },
  {
   "cell_type": "code",
   "execution_count": 19,
   "metadata": {},
   "outputs": [
    {
     "name": "stdout",
     "output_type": "stream",
     "text": [
      "0       0.0\n",
      "1       0.0\n",
      "2       0.0\n",
      "3       0.0\n",
      "4       0.0\n",
      "       ... \n",
      "4893    0.0\n",
      "4894    1.0\n",
      "4895   -1.0\n",
      "4896   -1.0\n",
      "4897    0.0\n",
      "Name: quality, Length: 6497, dtype: float64\n"
     ]
    }
   ],
   "source": [
    "# 예측 값과 실제 값의 오차 비교\n",
    "result = np.round(r) - y\n",
    "print(result)"
   ]
  },
  {
   "cell_type": "code",
   "execution_count": 20,
   "metadata": {},
   "outputs": [
    {
     "data": {
      "text/plain": [
       "[<matplotlib.lines.Line2D at 0x1d425c541c8>]"
      ]
     },
     "execution_count": 20,
     "metadata": {},
     "output_type": "execute_result"
    },
    {
     "data": {
      "image/png": "[encoded data removed]",
      "text/plain": [
       "<Figure size 432x288 with 1 Axes>"
      ]
     },
     "metadata": {
      "needs_background": "light"
     },
     "output_type": "display_data"
    }
   ],
   "source": [
    "# 한눈에 확인해보자!\n",
    "# 0이 정답이고 그 외는 다 오류\n",
    "plt.plot(result, '*')"
   ]
  },
  {
   "cell_type": "code",
   "execution_count": 21,
   "metadata": {},
   "outputs": [
    {
     "data": {
      "text/plain": [
       "0        True\n",
       "1        True\n",
       "2        True\n",
       "3        True\n",
       "4        True\n",
       "        ...  \n",
       "4893     True\n",
       "4894    False\n",
       "4895    False\n",
       "4896    False\n",
       "4897     True\n",
       "Name: quality, Length: 6497, dtype: bool"
      ]
     },
     "execution_count": 21,
     "metadata": {},
     "output_type": "execute_result"
    }
   ],
   "source": [
    "np.round(r) - y == 0"
   ]
  },
  {
   "cell_type": "code",
   "execution_count": 24,
   "metadata": {},
   "outputs": [
    {
     "data": {
      "text/plain": [
       "6497"
      ]
     },
     "execution_count": 24,
     "metadata": {},
     "output_type": "execute_result"
    }
   ],
   "source": [
    "# 샘플 개수\n",
    "y.size"
   ]
  },
  {
   "cell_type": "code",
   "execution_count": 22,
   "metadata": {},
   "outputs": [
    {
     "data": {
      "text/plain": [
       "3465"
      ]
     },
     "execution_count": 22,
     "metadata": {},
     "output_type": "execute_result"
    }
   ],
   "source": [
    "# 이렇게 하면 True 수를 셀 수 있다~\n",
    "# 60497개중 3465밖에 못맞췄어ㅠㅠ\n",
    "np.sum(np.round(r) - y == 0)"
   ]
  },
  {
   "cell_type": "code",
   "execution_count": 23,
   "metadata": {},
   "outputs": [
    {
     "data": {
      "text/plain": [
       "6169"
      ]
     },
     "execution_count": 23,
     "metadata": {},
     "output_type": "execute_result"
    }
   ],
   "source": [
    "# 1등급정도의 오차는 정답으로 쳐주자\n",
    "# 어떤 기준을 가지고 평가하느냐에 따라 똑같은 모델이라도 좋은지 나쁜지가 달라짐\n",
    "np.sum(np.abs(np.round(r) - y) <= 1)"
   ]
  },
  {
   "cell_type": "markdown",
   "metadata": {},
   "source": [
    "학습만 한다고 끝나는 게 아니라, 그 결과를 분석하는것까지 해야함!\n",
    "\n",
    "결과를 확인해서 이 모델이 어느정도의 성능을 가지고 있는가 평가!"
   ]
  },
  {
   "cell_type": "code",
   "execution_count": 25,
   "metadata": {},
   "outputs": [
    {
     "data": {
      "text/plain": [
       "0.9495151608434662"
      ]
     },
     "execution_count": 25,
     "metadata": {},
     "output_type": "execute_result"
    }
   ],
   "source": [
    "np.sum(np.abs(np.round(r) - y) <= 1) / y.size"
   ]
  },
  {
   "cell_type": "markdown",
   "metadata": {},
   "source": [
    "*±1 정도의 오차를 가지고 확인했을 때 95%의 정확도를 가진 모델이다~*"
   ]
  },
  {
   "cell_type": "code",
   "execution_count": 26,
   "metadata": {},
   "outputs": [
    {
     "name": "stdout",
     "output_type": "stream",
     "text": [
      "[ 6.76839156e-02 -1.32789221e+00 -1.09656648e-01  4.35587507e-02\n",
      " -4.83713531e-01  5.96988830e-03 -2.48129841e-03 -5.49669422e+01\n",
      "  4.39296072e-01  7.68251760e-01  2.67030009e-01]\n"
     ]
    }
   ],
   "source": [
    "# w 값을 구해주는 것\n",
    "# 각각의 특징값에 대한 가중치\n",
    "print(regr.coef_)\n",
    "\n",
    "# Q: 리그레이션을 할 때 각 값의 스케일이 다 다른데 이 알고리즘에서 스케일이 고려 되었는가?\n",
    "# A: 알고리즘의 특성에 따라 스케일이 고려되기도 하고 그렇지 않기도 함. 이 알고리즘에서는 고려되지 않았음\n",
    "#    반복적으로 수행하는 알고리즘은 스케일을 고려함"
   ]
  },
  {
   "cell_type": "code",
   "execution_count": 27,
   "metadata": {},
   "outputs": [
    {
     "data": {
      "text/plain": [
       "[<matplotlib.lines.Line2D at 0x1d42619e188>]"
      ]
     },
     "execution_count": 27,
     "metadata": {},
     "output_type": "execute_result"
    },
    {
     "data": {
      "image/png": "[encoded data removed]",
      "text/plain": [
       "<Figure size 432x288 with 1 Axes>"
      ]
     },
     "metadata": {
      "needs_background": "light"
     },
     "output_type": "display_data"
    }
   ],
   "source": [
    "# 7번째 값이 기울기가 -50인걸 보면 이 값이 높을수록\n",
    "# 와인의 퀄리티가 낮아진다는 것을 알 수 있음 (반비례 관계, 나쁜 특징)\n",
    "# 수치가 0에서 먼것을 보면 심각하게 영향을 주는것이다\n",
    "\n",
    "# 그 외에는 0에 근접해있음. 퀄리티에 비슷한 영향을 끼친다는 것\n",
    "plt.plot(regr.coef_)"
   ]
  },
  {
   "cell_type": "code",
   "execution_count": 29,
   "metadata": {},
   "outputs": [
    {
     "data": {
      "text/plain": [
       "array([-108.62542255])"
      ]
     },
     "execution_count": 29,
     "metadata": {},
     "output_type": "execute_result"
    }
   ],
   "source": [
    "# 학습시킨 모델에 임의의 측정값을 주고 확인해보기\n",
    "regr.predict([[7.4, 0.5, 0.2, 0.3, 0.2, 0.4, 0.2, 3, -0.4, 1.0, 0.7]])"
   ]
  },
  {
   "cell_type": "code",
   "execution_count": 30,
   "metadata": {},
   "outputs": [
    {
     "name": "stdout",
     "output_type": "stream",
     "text": [
      "(11,)\n",
      "[-108.62542255]\n"
     ]
    }
   ],
   "source": [
    "x = np.array([7.4, 0.5, 0.2, 0.3, 0.2, 0.4, 0.2, 3, -0.4, 1.0, 0.7])\n",
    "print(x.shape)\n",
    "print(regr.predict([x]))"
   ]
  },
  {
   "cell_type": "code",
   "execution_count": 31,
   "metadata": {},
   "outputs": [
    {
     "data": {
      "text/plain": [
       "2.718281828459045"
      ]
     },
     "execution_count": 31,
     "metadata": {},
     "output_type": "execute_result"
    }
   ],
   "source": [
    "np.exp(1)"
   ]
  },
  {
   "cell_type": "code",
   "execution_count": 70,
   "metadata": {},
   "outputs": [
    {
     "name": "stdout",
     "output_type": "stream",
     "text": [
      "(200, 2)\n",
      "[[ 1.14076145 -1.6731672 ]\n",
      " [-0.92146357 -1.44416608]\n",
      " [ 1.0331948   0.02208698]\n",
      " [ 0.69105693 -0.32642761]\n",
      " [-0.74195111  0.17237354]\n",
      " [-2.44023313 -0.11081505]\n",
      " [ 0.93229519  0.95166662]\n",
      " [-0.5051735  -0.830652  ]\n",
      " [ 0.1023808   0.44421527]\n",
      " [-0.12340929  0.13384211]\n",
      " [ 2.22617182  0.31565138]\n",
      " [-0.6765217  -0.40329408]\n",
      " [-0.58547557 -0.65941116]\n",
      " [-0.78946703 -0.64361131]\n",
      " [ 0.49112757 -0.2569945 ]\n",
      " [-1.66996037  0.60989005]\n",
      " [-2.07311873 -1.03395384]\n",
      " [ 0.70100077 -0.98265403]\n",
      " [-1.17441673 -0.55327245]\n",
      " [-0.97515671 -0.22278433]\n",
      " [ 1.37151067  0.38447312]\n",
      " [ 0.52520364 -1.36688865]\n",
      " [-0.29910975 -0.90921507]\n",
      " [ 0.46533873 -0.57399643]\n",
      " [ 0.87982012 -1.56792548]\n",
      " [-1.65264586  0.78308159]\n",
      " [ 0.16906693 -0.77316911]\n",
      " [ 0.24688308  0.21070898]\n",
      " [ 1.03793669  0.26531943]\n",
      " [-1.20315907  0.16686329]\n",
      " [ 0.31932525 -1.44288735]\n",
      " [ 0.21583481  0.03757182]\n",
      " [-0.54588566  0.5790802 ]\n",
      " [ 0.05108062  0.30183976]\n",
      " [ 0.95290051 -0.10064416]\n",
      " [ 0.69424577 -1.28195101]\n",
      " [ 0.58917128  0.54047482]\n",
      " [-0.25671411 -2.45551502]\n",
      " [-1.00035122  0.6257685 ]\n",
      " [-1.51873439 -1.17134388]\n",
      " [ 1.15340019  0.65758155]\n",
      " [-1.2580016  -0.38128263]\n",
      " [-0.27959223  0.33730606]\n",
      " [-0.69520513 -0.08937333]\n",
      " [ 0.24812603  1.08114167]\n",
      " [ 0.31136951  1.25121187]\n",
      " [-1.08576975 -1.46361583]\n",
      " [ 0.92270405 -0.31271721]\n",
      " [-0.05425126 -0.28936134]\n",
      " [ 0.01653632  0.15744576]\n",
      " [ 0.06305272  0.81403671]\n",
      " [ 0.78401228  0.30418244]\n",
      " [ 0.28229043  1.8377281 ]\n",
      " [ 0.85779967 -0.5516358 ]\n",
      " [-0.82490655 -0.30876555]\n",
      " [ 0.88122419 -0.77701369]\n",
      " [ 0.72634368 -0.32785038]\n",
      " [-1.19365686  1.57686049]\n",
      " [-0.04827063 -1.5968461 ]\n",
      " [-0.47688858  0.59150752]\n",
      " [ 1.63972128  0.4432547 ]\n",
      " [-0.22832581 -0.2457496 ]\n",
      " [-0.52785773 -0.20081342]\n",
      " [ 0.3644789   0.29376663]\n",
      " [ 0.26092237 -0.49950787]\n",
      " [-0.33727708  2.200108  ]\n",
      " [ 0.75087326  0.9843586 ]\n",
      " [-0.03071278  1.16376396]\n",
      " [-0.09560403 -2.30470096]\n",
      " [ 0.53627138  0.62656306]\n",
      " [-0.38585009  0.37524748]\n",
      " [-0.67083551  0.07691758]\n",
      " [ 0.02213441  0.41416827]\n",
      " [-0.14362718  0.61212607]\n",
      " [-0.16453601 -0.17892524]\n",
      " [ 1.38946056  0.1773436 ]\n",
      " [-0.11182165 -1.95092355]\n",
      " [-0.56636468 -0.95334607]\n",
      " [-0.99667597 -0.89894638]\n",
      " [-0.04732613 -0.2491184 ]\n",
      " [ 1.59760548 -0.28880322]\n",
      " [-0.61369161 -0.79908798]\n",
      " [-1.69073705 -1.15520174]\n",
      " [-0.83099415  0.79757594]\n",
      " [-1.04088739 -0.95962865]\n",
      " [ 2.8709986   0.46036529]\n",
      " [ 0.77120469  0.36487972]\n",
      " [-1.66568126 -0.55656742]\n",
      " [ 2.3616767  -0.60669502]\n",
      " [-1.50164391  0.60707445]\n",
      " [-2.21839866 -0.25725873]\n",
      " [ 0.48531478  0.29550608]\n",
      " [-0.7632124  -0.93733515]\n",
      " [-0.16127376 -0.09530021]\n",
      " [-0.36986949 -1.01499417]\n",
      " [-0.32114883  0.13446482]\n",
      " [ 0.02910873  0.60523232]\n",
      " [-0.34074607 -0.67521679]\n",
      " [-1.21916461  1.03663176]\n",
      " [ 1.14703813 -0.26641538]\n",
      " [ 3.87595108  4.50135916]\n",
      " [ 6.90605988  4.02029979]\n",
      " [ 4.11615512  3.33713594]\n",
      " [ 3.51766341  5.63776782]\n",
      " [ 4.76408145  4.42542211]\n",
      " [ 5.58237374  5.04809411]\n",
      " [ 6.49178249  6.18296813]\n",
      " [ 5.21593663  6.30273212]\n",
      " [ 3.93980978  6.29632574]\n",
      " [ 4.81255369  5.31962996]\n",
      " [ 3.68418372  6.63769202]\n",
      " [ 3.51318859  5.16076935]\n",
      " [ 7.32420326  5.00942361]\n",
      " [ 5.98936453  4.90791799]\n",
      " [ 5.96837801  6.12140489]\n",
      " [ 3.57350808  4.21855544]\n",
      " [ 5.20106745  5.03973261]\n",
      " [ 6.16122517  5.16136883]\n",
      " [ 5.04434941  4.31154877]\n",
      " [ 4.61455311  5.80946749]\n",
      " [ 4.15449325  4.13648006]\n",
      " [ 4.38080941  6.54147564]\n",
      " [ 4.73624188  6.89671289]\n",
      " [ 5.20817648  6.42948039]\n",
      " [ 5.50704474  5.86799031]\n",
      " [ 6.05881663  5.15775151]\n",
      " [ 4.75272717  3.50184369]\n",
      " [ 4.68835683  6.30600953]\n",
      " [ 4.80748764  6.26640652]\n",
      " [ 5.39667598  3.6767438 ]\n",
      " [ 4.65510885  4.84430786]\n",
      " [ 6.58679148  2.81116816]\n",
      " [ 6.44290513  5.14797761]\n",
      " [ 3.60592545  4.34560189]\n",
      " [ 6.71919789  3.08701345]\n",
      " [ 4.62849648  4.37009963]\n",
      " [ 5.38766269  3.23487222]\n",
      " [ 5.60137637  5.11841014]\n",
      " [ 3.74922246  5.17810797]\n",
      " [ 4.29045717  5.04256924]\n",
      " [ 4.52357186  5.7772363 ]\n",
      " [ 5.78798809  5.41958718]\n",
      " [ 5.90400191  4.35137706]\n",
      " [ 5.3661208   4.7766693 ]\n",
      " [ 4.06075907  5.05854094]\n",
      " [ 6.55651165  6.13647979]\n",
      " [ 3.95320025  7.37691992]\n",
      " [ 5.02518363  5.091848  ]\n",
      " [ 4.78995912  5.35324846]\n",
      " [ 4.65225249  4.30544829]\n",
      " [ 4.89962424  3.95425539]\n",
      " [ 4.0856267   4.19960191]\n",
      " [ 3.38503815  7.23316349]\n",
      " [ 3.04932429  5.71101044]\n",
      " [ 5.91822932  4.78050198]\n",
      " [ 6.30528557  6.23462443]\n",
      " [ 6.19691065  5.58860479]\n",
      " [ 3.18292459  5.7087379 ]\n",
      " [ 6.61647716  4.98261717]\n",
      " [ 5.34679396  4.99057731]\n",
      " [ 5.68224088  4.16017164]\n",
      " [ 5.08457095  5.82734391]\n",
      " [ 5.53849691  4.07028195]\n",
      " [ 4.4051293   3.99462139]\n",
      " [ 4.97727114  4.3554918 ]\n",
      " [ 4.87772795  4.87359043]\n",
      " [ 4.7854061   4.39945265]\n",
      " [ 4.68932223  4.04969248]\n",
      " [ 4.73294609  6.61164954]\n",
      " [ 6.54369949  6.12851325]\n",
      " [ 5.28707294  5.20401882]\n",
      " [ 6.70711357  6.00902355]\n",
      " [ 5.56523876  5.98515518]\n",
      " [ 4.18857794  5.41211946]\n",
      " [ 4.31757591  5.39244518]\n",
      " [ 5.72936288  6.44854726]\n",
      " [ 4.31086585  6.09443514]\n",
      " [ 3.9297154   4.49892887]\n",
      " [ 5.9299906   3.56059985]\n",
      " [ 5.75701593  4.57178304]\n",
      " [ 4.90394705  5.68694417]\n",
      " [ 6.13201141  4.63748459]\n",
      " [ 4.44310529  5.29925724]\n",
      " [ 4.7377966   5.15707739]\n",
      " [ 4.99296289  5.44586683]\n",
      " [ 4.72455062  5.43230863]\n",
      " [ 5.13111805  4.68409528]\n",
      " [ 4.11277956  4.54178629]\n",
      " [ 3.00560831  4.47880052]\n",
      " [ 5.83055871  5.77782657]\n",
      " [ 7.88503604  4.87393586]\n",
      " [ 5.71666232  7.36904766]\n",
      " [ 5.95536995  5.86570761]\n",
      " [ 4.68248892  7.92883194]\n",
      " [ 5.21480135  6.58513777]\n",
      " [ 4.81413129  5.27446966]\n",
      " [ 5.39257562  5.13862579]\n",
      " [ 5.91822954  3.32139916]\n",
      " [ 4.82508004  4.46282099]\n",
      " [ 5.92351534  4.40332155]]\n"
     ]
    }
   ],
   "source": [
    "#1\n",
    "samples = 100\n",
    "\n",
    "# 평균 0, 표준편차 1, 100 by 2짜리 샘플 데이터 생성 (0,0)을 중심으로 데이터 생성.\n",
    "x_data0 = np.random.normal(0, 1, size=[samples,2])  # r == 0 \n",
    "\n",
    "# 평균 5, 표준편차 1, 100 by 2짜리 샘플 데이터 생성 (5,5)를 중심으로 데이터 생성\n",
    "x_data1 = np.random.normal(5, 1, size=[samples,2])  # b == 1\n",
    "\n",
    "# 각 데이터를 vertical로 붙이기\n",
    "x_data = np.vstack([x_data0, x_data1])\n",
    "print(x_data.shape)\n",
    "print(x_data)"
   ]
  },
  {
   "cell_type": "code",
   "execution_count": 71,
   "metadata": {},
   "outputs": [
    {
     "name": "stdout",
     "output_type": "stream",
     "text": [
      "(200, 1)\n"
     ]
    }
   ],
   "source": [
    "y_data = np.vstack([np.zeros(samples).reshape(samples,1) , np.ones(samples).reshape(samples,1) ]) \n",
    "print(y_data.shape)"
   ]
  },
  {
   "cell_type": "code",
   "execution_count": 72,
   "metadata": {},
   "outputs": [
    {
     "data": {
      "text/plain": [
       "<matplotlib.collections.PathCollection at 0x1d429dd53c8>"
      ]
     },
     "execution_count": 72,
     "metadata": {},
     "output_type": "execute_result"
    }
   ],
   "source": [
    "colors = [\"red\"  if i == 0  else  \"blue\"  for i  in y_data   ]\n",
    "\n",
    "plt.scatter(x_data[:,0], x_data[:,1], color=colors)"
   ]
  },
  {
   "cell_type": "code",
   "execution_count": 73,
   "metadata": {},
   "outputs": [
    {
     "data": {
      "text/plain": [
       "LinearRegression(copy_X=True, fit_intercept=True, n_jobs=None, normalize=False)"
      ]
     },
     "execution_count": 73,
     "metadata": {},
     "output_type": "execute_result"
    }
   ],
   "source": [
    "# 선형 회귀 (Linear Regression)로 해보기\n",
    "regr.fit(x_data, y_data)  # y = w1*x1 + w2*x2 + b"
   ]
  },
  {
   "cell_type": "code",
   "execution_count": 74,
   "metadata": {},
   "outputs": [
    {
     "data": {
      "text/plain": [
       "array([[0.08676632]])"
      ]
     },
     "execution_count": 74,
     "metadata": {},
     "output_type": "execute_result"
    }
   ],
   "source": [
    "regr.predict([[2.7, -2]])"
   ]
  },
  {
   "cell_type": "code",
   "execution_count": 75,
   "metadata": {},
   "outputs": [
    {
     "data": {
      "text/plain": [
       "array([[0.49406687]])"
      ]
     },
     "execution_count": 75,
     "metadata": {},
     "output_type": "execute_result"
    }
   ],
   "source": [
    "# 0.5를 기준으로 작으면 빨강, 크면 파랑으로 보고있음\n",
    "regr.predict([[2.9, 2.1]])"
   ]
  },
  {
   "cell_type": "code",
   "execution_count": 76,
   "metadata": {},
   "outputs": [
    {
     "data": {
      "text/plain": [
       "array([[False],\n",
       "       [False],\n",
       "       [False],\n",
       "       [False],\n",
       "       [False],\n",
       "       [False],\n",
       "       [False],\n",
       "       [False],\n",
       "       [False],\n",
       "       [False],\n",
       "       [False],\n",
       "       [False],\n",
       "       [False],\n",
       "       [False],\n",
       "       [False],\n",
       "       [False],\n",
       "       [False],\n",
       "       [False],\n",
       "       [False],\n",
       "       [False],\n",
       "       [False],\n",
       "       [False],\n",
       "       [False],\n",
       "       [False],\n",
       "       [False],\n",
       "       [False],\n",
       "       [False],\n",
       "       [False],\n",
       "       [False],\n",
       "       [False],\n",
       "       [False],\n",
       "       [False],\n",
       "       [False],\n",
       "       [False],\n",
       "       [False],\n",
       "       [False],\n",
       "       [False],\n",
       "       [False],\n",
       "       [False],\n",
       "       [False],\n",
       "       [False],\n",
       "       [False],\n",
       "       [False],\n",
       "       [False],\n",
       "       [False],\n",
       "       [False],\n",
       "       [False],\n",
       "       [False],\n",
       "       [False],\n",
       "       [False],\n",
       "       [False],\n",
       "       [False],\n",
       "       [False],\n",
       "       [False],\n",
       "       [False],\n",
       "       [False],\n",
       "       [False],\n",
       "       [False],\n",
       "       [False],\n",
       "       [False],\n",
       "       [False],\n",
       "       [False],\n",
       "       [False],\n",
       "       [False],\n",
       "       [False],\n",
       "       [False],\n",
       "       [False],\n",
       "       [False],\n",
       "       [False],\n",
       "       [False],\n",
       "       [False],\n",
       "       [False],\n",
       "       [False],\n",
       "       [False],\n",
       "       [False],\n",
       "       [False],\n",
       "       [False],\n",
       "       [False],\n",
       "       [False],\n",
       "       [False],\n",
       "       [False],\n",
       "       [False],\n",
       "       [False],\n",
       "       [False],\n",
       "       [False],\n",
       "       [False],\n",
       "       [False],\n",
       "       [False],\n",
       "       [False],\n",
       "       [False],\n",
       "       [False],\n",
       "       [False],\n",
       "       [False],\n",
       "       [False],\n",
       "       [False],\n",
       "       [False],\n",
       "       [False],\n",
       "       [False],\n",
       "       [False],\n",
       "       [False],\n",
       "       [ True],\n",
       "       [ True],\n",
       "       [ True],\n",
       "       [ True],\n",
       "       [ True],\n",
       "       [ True],\n",
       "       [ True],\n",
       "       [ True],\n",
       "       [ True],\n",
       "       [ True],\n",
       "       [ True],\n",
       "       [ True],\n",
       "       [ True],\n",
       "       [ True],\n",
       "       [ True],\n",
       "       [ True],\n",
       "       [ True],\n",
       "       [ True],\n",
       "       [ True],\n",
       "       [ True],\n",
       "       [ True],\n",
       "       [ True],\n",
       "       [ True],\n",
       "       [ True],\n",
       "       [ True],\n",
       "       [ True],\n",
       "       [ True],\n",
       "       [ True],\n",
       "       [ True],\n",
       "       [ True],\n",
       "       [ True],\n",
       "       [ True],\n",
       "       [ True],\n",
       "       [ True],\n",
       "       [ True],\n",
       "       [ True],\n",
       "       [ True],\n",
       "       [ True],\n",
       "       [ True],\n",
       "       [ True],\n",
       "       [ True],\n",
       "       [ True],\n",
       "       [ True],\n",
       "       [ True],\n",
       "       [ True],\n",
       "       [ True],\n",
       "       [ True],\n",
       "       [ True],\n",
       "       [ True],\n",
       "       [ True],\n",
       "       [ True],\n",
       "       [ True],\n",
       "       [ True],\n",
       "       [ True],\n",
       "       [ True],\n",
       "       [ True],\n",
       "       [ True],\n",
       "       [ True],\n",
       "       [ True],\n",
       "       [ True],\n",
       "       [ True],\n",
       "       [ True],\n",
       "       [ True],\n",
       "       [ True],\n",
       "       [ True],\n",
       "       [ True],\n",
       "       [ True],\n",
       "       [ True],\n",
       "       [ True],\n",
       "       [ True],\n",
       "       [ True],\n",
       "       [ True],\n",
       "       [ True],\n",
       "       [ True],\n",
       "       [ True],\n",
       "       [ True],\n",
       "       [ True],\n",
       "       [ True],\n",
       "       [ True],\n",
       "       [ True],\n",
       "       [ True],\n",
       "       [ True],\n",
       "       [ True],\n",
       "       [ True],\n",
       "       [ True],\n",
       "       [ True],\n",
       "       [ True],\n",
       "       [ True],\n",
       "       [ True],\n",
       "       [ True],\n",
       "       [ True],\n",
       "       [ True],\n",
       "       [ True],\n",
       "       [ True],\n",
       "       [ True],\n",
       "       [ True],\n",
       "       [ True],\n",
       "       [ True],\n",
       "       [ True],\n",
       "       [ True]])"
      ]
     },
     "execution_count": 76,
     "metadata": {},
     "output_type": "execute_result"
    }
   ],
   "source": [
    "regr.predict(x_data) > 0.5"
   ]
  },
  {
   "cell_type": "code",
   "execution_count": 77,
   "metadata": {},
   "outputs": [
    {
     "data": {
      "text/plain": [
       "array([[1.84216644]])"
      ]
     },
     "execution_count": 77,
     "metadata": {},
     "output_type": "execute_result"
    }
   ],
   "source": [
    "# 10,10은 파란색으로 볼 수 있다. 다만, 확률이라고 얘기할 수는 없음\n",
    "# 1.8 확률은 없기 때문.. 확률은 0부터 1 사이\n",
    "regr.predict([[10, 10]])"
   ]
  },
  {
   "cell_type": "code",
   "execution_count": 78,
   "metadata": {},
   "outputs": [
    {
     "name": "stdout",
     "output_type": "stream",
     "text": [
      "[0 0 0 0 0 0 0 0 0 0 0 0 0 0 0 0 0 0 0 0 0 0 0 0 0 0 0 0 0 0 0 0 0 0 0 0 0\n",
      " 0 0 0 0 0 0 0 0 0 0 0 0 0 0 0 0 0 0 0 0 0 0 0 0 0 0 0 0 0 0 0 0 0 0 0 0 0\n",
      " 0 0 0 0 0 0 0 0 0 0 0 0 0 0 0 0 0 0 0 0 0 0 0 0 0 0 1 1 1 1 1 1 1 1 1 1 1\n",
      " 1 1 1 1 1 1 1 1 1 1 1 1 1 1 1 1 1 1 1 1 1 1 1 1 1 1 1 1 1 1 1 1 1 1 1 1 1\n",
      " 1 1 1 1 1 1 1 1 1 1 1 1 1 1 1 1 1 1 1 1 1 1 1 1 1 1 1 1 1 1 1 1 1 1 1 1 1\n",
      " 1 1 1 1 1 1 1 1 1 1 1 1 1 1 1]\n",
      "[ True  True  True  True  True  True  True  True  True  True  True  True\n",
      "  True  True  True  True  True  True  True  True  True  True  True  True\n",
      "  True  True  True  True  True  True  True  True  True  True  True  True\n",
      "  True  True  True  True  True  True  True  True  True  True  True  True\n",
      "  True  True  True  True  True  True  True  True  True  True  True  True\n",
      "  True  True  True  True  True  True  True  True  True  True  True  True\n",
      "  True  True  True  True  True  True  True  True  True  True  True  True\n",
      "  True  True  True  True  True  True  True  True  True  True  True  True\n",
      "  True  True  True  True  True  True  True  True  True  True  True  True\n",
      "  True  True  True  True  True  True  True  True  True  True  True  True\n",
      "  True  True  True  True  True  True  True  True  True  True  True  True\n",
      "  True  True  True  True  True  True  True  True  True  True  True  True\n",
      "  True  True  True  True  True  True  True  True  True  True  True  True\n",
      "  True  True  True  True  True  True  True  True  True  True  True  True\n",
      "  True  True  True  True  True  True  True  True  True  True  True  True\n",
      "  True  True  True  True  True  True  True  True  True  True  True  True\n",
      "  True  True  True  True  True  True  True  True]\n",
      "200\n"
     ]
    }
   ],
   "source": [
    "# 모든 행렬의 0번째 컬럼만 가져와서 0.5보다 큰지 확인\n",
    "h = (regr.predict(x_data)[:,0] > 0.5) * 1\n",
    "print(h)\n",
    "print(h == y_data[:,0])\n",
    "print(np.sum(h == y_data[:,0]))\n",
    "print(h / y)"
   ]
  },
  {
   "cell_type": "code",
   "execution_count": 90,
   "metadata": {},
   "outputs": [
    {
     "data": {
      "text/plain": [
       "<mpl_toolkits.mplot3d.art3d.Path3DCollection at 0x1d42a78bcc8>"
      ]
     },
     "execution_count": 90,
     "metadata": {},
     "output_type": "execute_result"
    }
   ],
   "source": [
    "import matplotlib.pyplot as plt\n",
    "from mpl_toolkits.mplot3d import Axes3D\n",
    "%matplotlib qt5\n",
    "\n",
    "xx, yy = np.mgrid[-10:10:0.5, -10:10:0.5]\n",
    "grid = np.c_[xx.flatten(), yy.flatten()]\n",
    "\n",
    "result = regr.predict(grid)\n",
    "\n",
    "fig = plt.figure()\n",
    "ax = plt.axes(projection=\"3d\")\n",
    "\n",
    "\n",
    "ax.scatter3D(xx.flatten(), yy.flatten(), result, 'r')"
   ]
  },
  {
   "cell_type": "markdown",
   "metadata": {},
   "source": [
    "# 로지스틱 회귀"
   ]
  },
  {
   "cell_type": "code",
   "execution_count": 154,
   "metadata": {},
   "outputs": [
    {
     "name": "stderr",
     "output_type": "stream",
     "text": [
      "C:\\Users\\user\\anaconda3\\lib\\site-packages\\sklearn\\utils\\validation.py:760: DataConversionWarning: A column-vector y was passed when a 1d array was expected. Please change the shape of y to (n_samples, ), for example using ravel().\n",
      "  y = column_or_1d(y, warn=True)\n"
     ]
    },
    {
     "data": {
      "text/plain": [
       "LogisticRegression(C=1.0, class_weight=None, dual=False, fit_intercept=True,\n",
       "                   intercept_scaling=1, l1_ratio=None, max_iter=100,\n",
       "                   multi_class='auto', n_jobs=None, penalty='l2',\n",
       "                   random_state=None, solver='lbfgs', tol=0.0001, verbose=0,\n",
       "                   warm_start=False)"
      ]
     },
     "execution_count": 154,
     "metadata": {},
     "output_type": "execute_result"
    }
   ],
   "source": [
    "log_reg = LogisticRegression()\n",
    "log_reg.fit(x_data, y_data)"
   ]
  },
  {
   "cell_type": "code",
   "execution_count": 84,
   "metadata": {},
   "outputs": [
    {
     "data": {
      "text/plain": [
       "array([0.])"
      ]
     },
     "execution_count": 84,
     "metadata": {},
     "output_type": "execute_result"
    }
   ],
   "source": [
    "log_reg.predict([[-10,-10]])"
   ]
  },
  {
   "cell_type": "code",
   "execution_count": 85,
   "metadata": {},
   "outputs": [
    {
     "data": {
      "text/plain": [
       "array([0.])"
      ]
     },
     "execution_count": 85,
     "metadata": {},
     "output_type": "execute_result"
    }
   ],
   "source": [
    "log_reg.predict([[-100,-100]])"
   ]
  },
  {
   "cell_type": "code",
   "execution_count": 86,
   "metadata": {},
   "outputs": [
    {
     "data": {
      "text/plain": [
       "array([1.])"
      ]
     },
     "execution_count": 86,
     "metadata": {},
     "output_type": "execute_result"
    }
   ],
   "source": [
    "log_reg.predict([[100, 100]])"
   ]
  },
  {
   "cell_type": "code",
   "execution_count": 91,
   "metadata": {},
   "outputs": [
    {
     "name": "stdout",
     "output_type": "stream",
     "text": [
      "[[0.9821802 0.0178198]]\n"
     ]
    }
   ],
   "source": [
    "# 확률 값을 얻어내보기\n",
    "p = log_reg.predict_proba([[1, 1]])\n",
    "\n",
    "print(p)\n",
    "# [[negative일 확률 (빨간색 점일 확률), positive일 확률(파란색 점일 확률)]]"
   ]
  },
  {
   "cell_type": "code",
   "execution_count": 92,
   "metadata": {},
   "outputs": [
    {
     "name": "stdout",
     "output_type": "stream",
     "text": [
      "0.017819798223045157\n"
     ]
    }
   ],
   "source": [
    "# 그렇다면 파란색일 확률은?\n",
    "# 1이 나올 확률을 모델링한 것이기 때문에 시그모이드 값은 p[0][1]이다. (y)\n",
    "# 그것을 바탕으로 빨간 점이구나를 아는 것\n",
    "print(p[0][1])"
   ]
  },
  {
   "cell_type": "code",
   "execution_count": null,
   "metadata": {},
   "outputs": [],
   "source": [
    "import matplotlib.pyplot as plt\n",
    "from mpl_toolkits.mplot3d import Axes3D\n",
    "%matplotlib qt5\n",
    "\n",
    "xx, yy = np.mgrid[-10:10:0.5, -10:10:0.5]\n",
    "grid = np.c_[xx.flatten(), yy.flatten()]"
   ]
  },
  {
   "cell_type": "code",
   "execution_count": 100,
   "metadata": {},
   "outputs": [
    {
     "data": {
      "text/plain": [
       "<mpl_toolkits.mplot3d.art3d.Path3DCollection at 0x1d42aec1788>"
      ]
     },
     "execution_count": 100,
     "metadata": {},
     "output_type": "execute_result"
    }
   ],
   "source": [
    "# 예측 값을 가지고 그래프를 그렸을때\n",
    "result = log_reg.predict(grid)\n",
    "\n",
    "fig = plt.figure()\n",
    "ax = plt.axes(projection=\"3d\")\n",
    "\n",
    "ax.scatter3D(xx.flatten(), yy.flatten(), result, 'r')\n",
    "\n",
    "# 0 아니면 1로 분류됨"
   ]
  },
  {
   "cell_type": "code",
   "execution_count": 101,
   "metadata": {},
   "outputs": [
    {
     "data": {
      "text/plain": [
       "<mpl_toolkits.mplot3d.art3d.Path3DCollection at 0x1d42af88b48>"
      ]
     },
     "execution_count": 101,
     "metadata": {},
     "output_type": "execute_result"
    }
   ],
   "source": [
    "# 확률 값을 가지고 그래프를 그렸을때\n",
    "result = log_reg.predict_proba(grid)[:,1]\n",
    "\n",
    "fig = plt.figure()\n",
    "ax = plt.axes(projection=\"3d\")\n",
    "\n",
    "\n",
    "ax.scatter3D(xx.flatten(), yy.flatten(), result, 'r')\n",
    "\n",
    "# 시그모이드 그래프가 나옴"
   ]
  },
  {
   "cell_type": "code",
   "execution_count": 107,
   "metadata": {},
   "outputs": [
    {
     "name": "stdout",
     "output_type": "stream",
     "text": [
      "[255.55080113]\n",
      "[1.]\n"
     ]
    }
   ],
   "source": [
    "y = log_reg.coef_[0][0]*100 + log_reg.coef_[0][1] * 100 + log_reg.intercept_\n",
    "print(y)\n",
    "print(1/ (1 + np.exp(-y)))"
   ]
  },
  {
   "cell_type": "code",
   "execution_count": 110,
   "metadata": {},
   "outputs": [
    {
     "data": {
      "text/plain": [
       "<matplotlib.collections.PathCollection at 0x1d42aaeb0c8>"
      ]
     },
     "execution_count": 110,
     "metadata": {},
     "output_type": "execute_result"
    }
   ],
   "source": [
    "# 분류 문제에서는 아래와 같이 그래프를 그려주면 됨\n",
    "# 가운데 빨간색과 파란색이 맞닿는 부분이 분류하는 기준임 (기울어진 선)\n",
    "xx, yy = np.mgrid[-2:8:0.2, -2:8:0.2]\n",
    "grid = np.c_[xx.flatten(), yy.flatten()]\n",
    "p = log_reg.predict_proba(grid)\n",
    "p = p[:,1]\n",
    "\n",
    "\n",
    "colors = [\"red\"  if i<  0.5  else  \"blue\"  for i  in p   ]\n",
    "plt.scatter(xx.flatten(), yy.flatten(), color = colors, alpha=0.2)\n",
    "\n",
    "# 원래 샘플\n",
    "colors = [\"red\"  if i == 0  else  \"blue\"  for i  in y_data   ]\n",
    "plt.scatter(x_data[:,0], x_data[:,1], color=colors)"
   ]
  },
  {
   "cell_type": "code",
   "execution_count": 115,
   "metadata": {},
   "outputs": [
    {
     "name": "stdout",
     "output_type": "stream",
     "text": [
      "(200, 2)\n",
      "[[ 2.48140597e+00  4.25167862e-01]\n",
      " [ 1.35020673e+00 -3.44944933e+00]\n",
      " [ 1.05335286e+00  8.04169814e-02]\n",
      " [-6.31495949e-01 -2.24362234e+00]\n",
      " [ 4.53573559e+00  2.78421075e+00]\n",
      " [ 1.34889752e+00  1.70803675e-01]\n",
      " [ 7.34238578e-01 -1.54756826e+00]\n",
      " [ 3.55248661e+00  3.36439043e+00]\n",
      " [ 1.12648355e+00 -1.59479332e+00]\n",
      " [-1.85872871e-01  2.45202830e+00]\n",
      " [ 1.79707200e+00 -5.45675009e-01]\n",
      " [-7.81326769e-01  1.70080773e+00]\n",
      " [-3.20880323e+00  4.41388347e-01]\n",
      " [-9.34745241e-01  1.51532315e+00]\n",
      " [ 8.62087596e-01 -1.04027146e+00]\n",
      " [-6.68852358e-01 -9.09458503e-01]\n",
      " [-3.18607308e+00  2.00274277e+00]\n",
      " [ 3.32161837e+00 -4.58111952e+00]\n",
      " [ 1.98128192e+00 -5.15374036e-01]\n",
      " [ 4.79492369e-01  2.03133193e+00]\n",
      " [-1.57750139e+00  7.43878970e+00]\n",
      " [ 1.13770739e+00 -2.92310577e+00]\n",
      " [ 2.42075080e+00 -3.98171037e+00]\n",
      " [ 1.73552357e+00 -1.69355112e+00]\n",
      " [-4.74506549e+00  2.22095480e-01]\n",
      " [-3.39562579e+00 -5.72435321e-01]\n",
      " [-1.98049249e+00 -3.02871223e+00]\n",
      " [ 7.05603449e-01 -3.03202838e+00]\n",
      " [ 7.66738771e-01 -8.52295512e-01]\n",
      " [-8.14576877e-02 -2.49275153e+00]\n",
      " [ 1.03342769e+00 -4.10842124e-01]\n",
      " [ 6.92083300e-01 -2.57126027e-01]\n",
      " [-5.19640765e+00 -3.82723899e-01]\n",
      " [-9.06893147e-02 -4.03667398e-01]\n",
      " [ 1.65842495e+00 -4.26141549e-01]\n",
      " [-2.89312696e+00 -2.13972315e+00]\n",
      " [ 8.97671878e-02  2.54949904e+00]\n",
      " [ 8.08549434e-01  8.14255697e-01]\n",
      " [ 3.97423066e-01 -8.84314109e-01]\n",
      " [ 1.75777882e-01 -8.88870167e-01]\n",
      " [-3.26801831e+00 -2.60978395e+00]\n",
      " [-8.80269546e-01 -1.69453192e+00]\n",
      " [-3.70844199e+00  1.63224426e+00]\n",
      " [ 1.90841048e-01 -2.01684791e-01]\n",
      " [-1.59499616e+00 -1.11694622e+00]\n",
      " [ 1.05088420e+00  5.43941579e-01]\n",
      " [-1.90121823e+00  8.09566034e-01]\n",
      " [-4.79766045e+00  7.69899939e-01]\n",
      " [ 1.25272745e+00  7.70086104e-01]\n",
      " [ 8.96617676e-01 -2.11495433e-01]\n",
      " [ 3.44272083e+00 -4.61706499e-02]\n",
      " [-2.03325155e+00  1.64575644e+00]\n",
      " [-2.22076383e+00  5.67898216e-01]\n",
      " [-1.14278976e+00  1.75364150e+00]\n",
      " [ 3.17208312e+00  6.08881705e-01]\n",
      " [ 1.68703498e+00 -3.26994871e+00]\n",
      " [ 3.13490911e+00  7.38206340e-01]\n",
      " [ 1.48117700e+00 -3.24053068e-02]\n",
      " [-1.85314078e+00 -3.71019170e+00]\n",
      " [-2.48834498e+00  5.77951529e+00]\n",
      " [ 1.82171591e+00  4.98928195e-01]\n",
      " [ 3.35660205e+00 -1.77695274e+00]\n",
      " [-1.59801616e+00 -1.99122698e-01]\n",
      " [ 2.40599782e+00 -2.79604423e-01]\n",
      " [ 6.93511434e-01 -2.38541200e+00]\n",
      " [ 7.10280450e-01  8.31578365e-01]\n",
      " [-3.18714061e-03 -1.08862149e+00]\n",
      " [-1.34748201e+00  2.59975342e+00]\n",
      " [-1.08943185e+00  9.07547557e-01]\n",
      " [-2.50130940e+00  1.28661529e+00]\n",
      " [-2.72271302e+00 -2.27695849e+00]\n",
      " [ 3.48902442e+00  1.03572349e-01]\n",
      " [-7.73391483e-01  2.13102841e+00]\n",
      " [-3.03258051e-01 -5.73641012e-02]\n",
      " [ 2.05055003e+00 -1.78454323e+00]\n",
      " [ 7.73467781e-01  9.99566860e-01]\n",
      " [-1.29497369e+00  9.83926903e-01]\n",
      " [ 1.69304015e+00  3.58408571e-01]\n",
      " [-1.55209770e+00 -1.69451446e+00]\n",
      " [-2.24077472e-01 -4.37417206e-01]\n",
      " [-1.14296899e+00 -1.25125127e+00]\n",
      " [ 2.59014448e+00  1.26829533e+00]\n",
      " [-2.73848092e+00 -1.33328493e+00]\n",
      " [-2.22774444e+00 -5.22026860e-01]\n",
      " [ 1.29452807e+00 -1.90927996e+00]\n",
      " [-5.46067324e-01  3.23258865e-01]\n",
      " [ 2.88506191e+00  5.16130860e+00]\n",
      " [ 1.12143484e+00 -3.00251336e+00]\n",
      " [-2.28656941e+00  1.71707824e+00]\n",
      " [ 7.83242482e-01  3.48900151e-01]\n",
      " [-2.30559910e+00  2.08304840e+00]\n",
      " [-1.13212011e+00 -1.41091342e-01]\n",
      " [-8.01686460e-01 -1.54289490e+00]\n",
      " [ 3.07049440e+00  4.27848734e-01]\n",
      " [ 7.38722312e-02 -3.05826718e-01]\n",
      " [-2.84728752e-01 -3.35436298e-01]\n",
      " [-1.26455573e+00  2.75126264e+00]\n",
      " [ 5.25809745e-01 -3.26350303e+00]\n",
      " [-1.38454165e+00  2.03173922e-01]\n",
      " [-1.34651260e-01  1.84943378e-01]\n",
      " [ 4.83034186e+00  6.16339897e+00]\n",
      " [ 4.06456867e+00  7.35230369e+00]\n",
      " [ 5.38729711e+00  3.65939470e+00]\n",
      " [ 3.78861004e+00  8.34074201e+00]\n",
      " [ 4.68288315e+00  6.71202765e+00]\n",
      " [ 6.27862136e+00  4.84277211e+00]\n",
      " [ 7.47025963e+00  6.49958679e+00]\n",
      " [ 8.89113400e+00  4.00850509e+00]\n",
      " [ 6.18682272e+00  5.12717830e+00]\n",
      " [ 3.64334615e+00  4.29507524e+00]\n",
      " [ 5.10527952e+00  6.25241467e+00]\n",
      " [ 4.58274236e+00  5.52776465e+00]\n",
      " [ 5.63211311e+00  2.80883099e+00]\n",
      " [ 4.32565895e+00  1.25354735e+00]\n",
      " [ 4.92153232e+00  2.74818911e+00]\n",
      " [ 6.98148387e+00  6.44106568e+00]\n",
      " [ 4.39598300e+00  3.53760761e+00]\n",
      " [ 9.83698223e+00  1.09347919e+01]\n",
      " [ 5.88365986e+00  4.99339378e+00]\n",
      " [ 6.30117377e+00  4.71702297e+00]\n",
      " [ 3.10435560e+00  5.96409006e+00]\n",
      " [ 5.52020582e+00  5.83748227e+00]\n",
      " [ 3.75997530e+00  5.75589985e+00]\n",
      " [ 2.22935152e+00  5.45182805e+00]\n",
      " [ 4.47633863e+00  7.32855885e+00]\n",
      " [ 8.00538220e+00  5.22809011e+00]\n",
      " [ 4.22455251e+00  5.47959903e+00]\n",
      " [ 5.96391807e+00  5.89506733e+00]\n",
      " [ 4.46943389e+00  1.25994226e+00]\n",
      " [ 4.17040167e+00  4.01629291e+00]\n",
      " [ 2.36391895e+00  4.33346913e+00]\n",
      " [ 4.50407194e+00  3.86553736e+00]\n",
      " [ 2.67125288e+00  4.72032430e+00]\n",
      " [ 1.75816010e+00  7.99070546e+00]\n",
      " [ 2.63482926e+00  8.44801952e+00]\n",
      " [ 3.76056204e+00  4.07376564e+00]\n",
      " [ 6.41102215e+00  2.71643039e+00]\n",
      " [ 5.41292265e+00  3.69569716e+00]\n",
      " [ 5.43046747e+00  2.83531869e+00]\n",
      " [ 4.00327397e+00  5.62885455e+00]\n",
      " [ 5.06617535e+00  3.73061211e+00]\n",
      " [ 3.38160337e+00  5.27405924e+00]\n",
      " [ 5.15244554e+00  1.46595219e+00]\n",
      " [ 4.98442265e+00  5.37066164e+00]\n",
      " [ 4.01307678e+00  3.33829031e+00]\n",
      " [ 6.00934914e+00  5.43175279e+00]\n",
      " [ 3.57983618e+00  6.11823750e+00]\n",
      " [ 4.26105600e+00  4.35801115e+00]\n",
      " [ 4.64214853e+00  2.87139506e+00]\n",
      " [ 5.38626527e+00  4.60095427e+00]\n",
      " [ 7.42416088e+00  3.68144461e+00]\n",
      " [ 4.77680911e+00  8.49936141e+00]\n",
      " [ 2.26368987e+00  2.10479058e+00]\n",
      " [ 5.72975418e+00  6.41938752e+00]\n",
      " [ 3.05669641e+00  6.33668573e+00]\n",
      " [ 5.36721420e+00  5.87785140e+00]\n",
      " [ 7.10768764e+00  3.23965676e+00]\n",
      " [ 6.62790643e+00  7.16073813e+00]\n",
      " [ 5.07872886e+00  6.36078687e+00]\n",
      " [ 4.12813801e+00  1.63077335e+00]\n",
      " [ 4.86083872e+00  6.60573072e+00]\n",
      " [ 3.60321385e+00  7.90317946e+00]\n",
      " [ 3.89090619e+00  5.48093628e+00]\n",
      " [ 8.04908739e+00  4.82105376e+00]\n",
      " [ 5.28335781e+00  5.54736526e+00]\n",
      " [ 4.42563705e+00  3.72585812e+00]\n",
      " [ 4.67020440e+00  6.44806392e+00]\n",
      " [ 3.89421660e-01  2.85066135e+00]\n",
      " [ 5.61261242e+00  5.59919470e+00]\n",
      " [ 2.18368025e+00  3.49300847e+00]\n",
      " [ 6.54785569e+00  2.70172349e+00]\n",
      " [ 4.04508947e+00  6.07000187e+00]\n",
      " [ 3.59732966e+00  3.48625018e+00]\n",
      " [ 2.47805621e+00  4.43168438e+00]\n",
      " [ 5.43127120e+00  7.07309851e+00]\n",
      " [ 1.68797126e+00  7.65510753e+00]\n",
      " [ 6.31929465e+00  3.84482037e+00]\n",
      " [ 3.05859724e+00  8.18863442e+00]\n",
      " [ 5.06808949e+00  2.38942326e+00]\n",
      " [ 4.84055273e+00  3.41588226e+00]\n",
      " [ 4.67824570e+00  5.52402981e+00]\n",
      " [ 4.87144408e+00  5.83100411e+00]\n",
      " [ 8.47113948e+00  8.38863324e-01]\n",
      " [-7.65862352e-01  3.82273769e+00]\n",
      " [ 5.77227772e+00  6.54229043e+00]\n",
      " [ 2.97782335e+00  4.71152574e+00]\n",
      " [ 6.66753404e+00  7.26436138e+00]\n",
      " [ 5.64977333e+00  8.83274303e+00]\n",
      " [ 6.88292753e+00  8.20940995e+00]\n",
      " [ 6.63042776e+00  6.04231825e+00]\n",
      " [ 5.59951329e+00  6.54426539e+00]\n",
      " [ 4.66968390e+00  8.20034853e+00]\n",
      " [ 5.12768128e+00  3.89470186e+00]\n",
      " [ 2.58820167e+00  6.12036866e+00]\n",
      " [ 8.13010485e+00  5.55354845e+00]\n",
      " [ 7.04714436e+00  8.14199359e+00]\n",
      " [ 4.50099928e+00  3.11405623e+00]\n",
      " [ 3.64121741e+00  7.69829980e+00]\n",
      " [ 2.85918525e+00  5.42784649e+00]\n",
      " [ 5.09133382e+00  7.14641420e+00]]\n"
     ]
    }
   ],
   "source": [
    "#1\n",
    "samples = 100\n",
    "\n",
    "# 평균 0, 표준편차 1, 100 by 2짜리 샘플 데이터 생성 (0,0)을 중심으로 데이터 생성.\n",
    "x_data0 = np.random.normal(0, 2, size=[samples,2])  # r == 0 \n",
    "\n",
    "# 평균 5, 표준편차 1, 100 by 2짜리 샘플 데이터 생성 (5,5)를 중심으로 데이터 생성\n",
    "x_data1 = np.random.normal(5, 2, size=[samples,2])  # b == 1\n",
    "\n",
    "# 각 데이터를 vertical로 붙이기\n",
    "x_data = np.vstack([x_data0, x_data1])\n",
    "print(x_data.shape)\n",
    "print(x_data)"
   ]
  },
  {
   "cell_type": "code",
   "execution_count": 116,
   "metadata": {},
   "outputs": [
    {
     "data": {
      "text/plain": [
       "<matplotlib.collections.PathCollection at 0x1d42adf0188>"
      ]
     },
     "execution_count": 116,
     "metadata": {},
     "output_type": "execute_result"
    }
   ],
   "source": [
    "xx, yy = np.mgrid[-2:8:0.2, -2:8:0.2]\n",
    "grid = np.c_[xx.flatten(), yy.flatten()]\n",
    "p = log_reg.predict_proba(grid)\n",
    "p = p[:,1]\n",
    "\n",
    "\n",
    "colors = [\"red\"  if i<  0.5  else  \"blue\"  for i  in p   ]\n",
    "plt.scatter(xx.flatten(), yy.flatten(), color = colors, alpha=0.2)\n",
    "\n",
    "# 원래 샘플\n",
    "colors = [\"red\"  if i == 0  else  \"blue\"  for i  in y_data   ]\n",
    "plt.scatter(x_data[:,0], x_data[:,1], color=colors)"
   ]
  },
  {
   "cell_type": "code",
   "execution_count": 189,
   "metadata": {},
   "outputs": [
    {
     "name": "stdout",
     "output_type": "stream",
     "text": [
      "(768, 9)\n"
     ]
    }
   ],
   "source": [
    "#1\n",
    "data = np.loadtxt(\"diabetes.csv\", delimiter=\",\", dtype=np.float32)\n",
    "print(data.shape)\n",
    "\n",
    "\"\"\"\n",
    "임신횟수\n",
    "글루코스 내성 실험 후의 혈당수치\n",
    "확장기 혈압(mm Hg)\n",
    "상완 삼두근 피부 두께 (mm)\n",
    "혈액내 인슐린 수치 (mu U/ml)\n",
    "BMI(비만도) 수치 (weight in kg/(height in m)^2)\n",
    "당뇨병 가족력: 계산식은 데이터세트의 출처에서 확인하세요.\n",
    "나이 (years)\n",
    "당뇨병 여부 (0 or 1; 1은 발병)\n",
    "\"\"\"\n",
    "\n",
    "label = [\"임신횟수\", \"글루코스 내성 실험 후의 혈당수치\", \"확장기 혈압\", \"상완 삼두근 피부 두께\",\n",
    "         \"혈액내 인슐린 수치\", \"BMI\", \"당뇨병 가족력\", \"나이\"]\n"
   ]
  },
  {
   "cell_type": "code",
   "execution_count": 190,
   "metadata": {},
   "outputs": [
    {
     "name": "stdout",
     "output_type": "stream",
     "text": [
      "(768,)\n",
      "(768, 8)\n",
      "(768, 1)\n"
     ]
    }
   ],
   "source": [
    "dim = 8\n",
    "x_data = data[:, 0:dim]\n",
    "\n",
    "\n",
    "y_data = data[:, dim]  \n",
    "print(y_data.shape)\n",
    "# y는 그냥 벡터로 써도 상관 없지만, 다차원으로 변환하거나 keras같은거랑 엮으려면 이렇게 해두는게 편하다고 함\n",
    "y_data = y_data.reshape(768,1)\n",
    "\n",
    "print(x_data.shape)\n",
    "print(y_data.shape)"
   ]
  },
  {
   "cell_type": "markdown",
   "metadata": {},
   "source": [
    "# 연습문제"
   ]
  },
  {
   "cell_type": "markdown",
   "metadata": {},
   "source": [
    "## 1단계:학습시키기"
   ]
  },
  {
   "cell_type": "code",
   "execution_count": 174,
   "metadata": {},
   "outputs": [
    {
     "name": "stderr",
     "output_type": "stream",
     "text": [
      "C:\\Users\\user\\anaconda3\\lib\\site-packages\\sklearn\\utils\\validation.py:760: DataConversionWarning: A column-vector y was passed when a 1d array was expected. Please change the shape of y to (n_samples, ), for example using ravel().\n",
      "  y = column_or_1d(y, warn=True)\n",
      "C:\\Users\\user\\anaconda3\\lib\\site-packages\\sklearn\\linear_model\\_logistic.py:940: ConvergenceWarning: lbfgs failed to converge (status=1):\n",
      "STOP: TOTAL NO. of ITERATIONS REACHED LIMIT.\n",
      "\n",
      "Increase the number of iterations (max_iter) or scale the data as shown in:\n",
      "    https://scikit-learn.org/stable/modules/preprocessing.html\n",
      "Please also refer to the documentation for alternative solver options:\n",
      "    https://scikit-learn.org/stable/modules/linear_model.html#logistic-regression\n",
      "  extra_warning_msg=_LOGISTIC_SOLVER_CONVERGENCE_MSG)\n"
     ]
    },
    {
     "data": {
      "text/plain": [
       "LogisticRegression(C=1.0, class_weight=None, dual=False, fit_intercept=True,\n",
       "                   intercept_scaling=1, l1_ratio=None, max_iter=100,\n",
       "                   multi_class='auto', n_jobs=None, penalty='l2',\n",
       "                   random_state=None, solver='lbfgs', tol=0.0001, verbose=0,\n",
       "                   warm_start=False)"
      ]
     },
     "execution_count": 174,
     "metadata": {},
     "output_type": "execute_result"
    }
   ],
   "source": [
    "log_reg.fit(x_data, y_data)"
   ]
  },
  {
   "cell_type": "code",
   "execution_count": 188,
   "metadata": {},
   "outputs": [
    {
     "name": "stdout",
     "output_type": "stream",
     "text": [
      "임신횟수 0.1359901412917452\n",
      "글루코스 내성 실험 후의 혈당수치 0.03429416125425302\n",
      "확장기 혈압 -0.012607102035581491\n",
      "상완 삼두근 피부 두께 -0.0036708094698981006\n",
      "혈액내 인슐린 수치 -0.0009429642609238423\n",
      "BMI 0.08908182478527499\n",
      "당뇨병 가족력 1.5164656688092761\n",
      "나이 0.010557173615741048\n"
     ]
    }
   ],
   "source": [
    "# 각 값은 가중치(w)를 나타낸다 (기울기)\n",
    "for i in range(dim):\n",
    "    print(label[i], log_reg.coef_[0, i])"
   ]
  },
  {
   "cell_type": "markdown",
   "metadata": {},
   "source": [
    "## 2단계: 예측하기"
   ]
  },
  {
   "cell_type": "code",
   "execution_count": 176,
   "metadata": {},
   "outputs": [],
   "source": [
    "p = log_reg.predict(x_data)"
   ]
  },
  {
   "cell_type": "markdown",
   "metadata": {},
   "source": [
    "## 3단계: 성능 평가"
   ]
  },
  {
   "cell_type": "code",
   "execution_count": 177,
   "metadata": {},
   "outputs": [
    {
     "data": {
      "text/plain": [
       "array([[ True, False,  True, ..., False, False, False],\n",
       "       [False,  True, False, ...,  True,  True,  True],\n",
       "       [ True, False,  True, ..., False, False, False],\n",
       "       ...,\n",
       "       [False,  True, False, ...,  True,  True,  True],\n",
       "       [ True, False,  True, ..., False, False, False],\n",
       "       [False,  True, False, ...,  True,  True,  True]])"
      ]
     },
     "execution_count": 177,
     "metadata": {},
     "output_type": "execute_result"
    }
   ],
   "source": [
    "p == y_data"
   ]
  },
  {
   "cell_type": "code",
   "execution_count": 178,
   "metadata": {},
   "outputs": [
    {
     "data": {
      "text/plain": [
       "0.5688340928819444"
      ]
     },
     "execution_count": 178,
     "metadata": {},
     "output_type": "execute_result"
    }
   ],
   "source": [
    "# 당뇨병을 맞출 확률은 56%밖에 안됨 (엄청 안좋은 성능)\n",
    "# 선형이라고 말하기 힘든 것!\n",
    "np.mean(p==y_data)"
   ]
  },
  {
   "cell_type": "markdown",
   "metadata": {},
   "source": [
    "## 4단계: 수치를 유지하면서 나이만 높였을때 당뇨병 걸릴 확률 구해보기"
   ]
  },
  {
   "cell_type": "code",
   "execution_count": 179,
   "metadata": {},
   "outputs": [
    {
     "data": {
      "text/plain": [
       "'\\n임신횟수: 0\\n글루코스 내성 실험 후의 혈당수치: 90\\n확장기 혈압(mm Hg): 66\\n상완 삼두근 피부 두께 (mm): 29\\n혈액내 인슐린 수치 (mu U/ml): 0\\nBMI(비만도) 수치 (weight in kg/(height in m)^2): 26.6\\n당뇨병 가족력: 0.351\\n나이 (years): 30\\n'"
      ]
     },
     "execution_count": 179,
     "metadata": {},
     "output_type": "execute_result"
    }
   ],
   "source": [
    "\"\"\"\n",
    "임신횟수: 0\n",
    "글루코스 내성 실험 후의 혈당수치: 90\n",
    "확장기 혈압(mm Hg): 66\n",
    "상완 삼두근 피부 두께 (mm): 29\n",
    "혈액내 인슐린 수치 (mu U/ml): 0\n",
    "BMI(비만도) 수치 (weight in kg/(height in m)^2): 26.6\n",
    "당뇨병 가족력: 0.351\n",
    "나이 (years): 30\n",
    "\"\"\""
   ]
  },
  {
   "cell_type": "code",
   "execution_count": 180,
   "metadata": {},
   "outputs": [
    {
     "data": {
      "text/plain": [
       "array([[0.95505849, 0.04494151],\n",
       "       [0.93932875, 0.06067125]])"
      ]
     },
     "execution_count": 180,
     "metadata": {},
     "output_type": "execute_result"
    }
   ],
   "source": [
    "# 당뇨병일 확률 계산\n",
    "x_data2 = np.array([\n",
    "                    [0, 90, 66, 29, 0, 26.6, 0.351, 30],\n",
    "                    [0, 90, 66, 29, 0, 26.6, 0.351, 60]\n",
    "                  ])\n",
    "log_reg.predict_proba(x_data2)"
   ]
  },
  {
   "cell_type": "code",
   "execution_count": 191,
   "metadata": {},
   "outputs": [
    {
     "name": "stdout",
     "output_type": "stream",
     "text": [
      "[ 17.   199.   122.    99.   846.    67.1    2.42  81.  ]\n"
     ]
    }
   ],
   "source": [
    "# 정규화를 해주면 성능이 좋아짐!\n",
    "\n",
    "# 각 컬럼의 최대값을 구하기\n",
    "mx = np.max(x_data, axis=0)\n",
    "print(mx)"
   ]
  },
  {
   "cell_type": "code",
   "execution_count": 192,
   "metadata": {},
   "outputs": [],
   "source": [
    "# 최대값으로 나눠서 모든 데이터를 0과 1 사이로 바꿔주기\n",
    "x_data = x_data / mx"
   ]
  },
  {
   "cell_type": "markdown",
   "metadata": {},
   "source": [
    "y = w*x + b \n",
    "\n",
    "#x=[2, 3, 4]  w= 8.7, b = 0\n",
    "\n",
    "numpy에서는 상수를 브로드캐스팅 해서 연산해줌\n",
    "4 * [1, 2, 3] -> [4, 4, 4] * [1, 2, 3]"
   ]
  },
  {
   "cell_type": "code",
   "execution_count": 193,
   "metadata": {},
   "outputs": [
    {
     "name": "stdout",
     "output_type": "stream",
     "text": [
      "[[0.3529412  0.74371856 0.59016395 ... 0.5007451  0.2590909  0.61728394]\n",
      " [0.05882353 0.42713568 0.5409836  ... 0.39642325 0.14504132 0.38271606]\n",
      " [0.47058824 0.919598   0.52459013 ... 0.34724292 0.27768594 0.39506173]\n",
      " ...\n",
      " [0.29411766 0.6080402  0.59016395 ... 0.390462   0.10123967 0.37037036]\n",
      " [0.05882353 0.63316584 0.4918033  ... 0.44858423 0.14421487 0.5802469 ]\n",
      " [0.05882353 0.46733668 0.57377046 ... 0.45305514 0.13016528 0.28395063]]\n"
     ]
    }
   ],
   "source": [
    "print(x_data)"
   ]
  },
  {
   "cell_type": "code",
   "execution_count": 194,
   "metadata": {},
   "outputs": [
    {
     "name": "stderr",
     "output_type": "stream",
     "text": [
      "C:\\Users\\user\\anaconda3\\lib\\site-packages\\sklearn\\utils\\validation.py:760: DataConversionWarning: A column-vector y was passed when a 1d array was expected. Please change the shape of y to (n_samples, ), for example using ravel().\n",
      "  y = column_or_1d(y, warn=True)\n"
     ]
    },
    {
     "data": {
      "text/plain": [
       "LogisticRegression(C=1.0, class_weight=None, dual=False, fit_intercept=True,\n",
       "                   intercept_scaling=1, l1_ratio=None, max_iter=100,\n",
       "                   multi_class='auto', n_jobs=None, penalty='l2',\n",
       "                   random_state=None, solver='lbfgs', tol=0.0001, verbose=0,\n",
       "                   warm_start=False)"
      ]
     },
     "execution_count": 194,
     "metadata": {},
     "output_type": "execute_result"
    }
   ],
   "source": [
    "log_reg.fit(x_data, y_data)"
   ]
  },
  {
   "cell_type": "code",
   "execution_count": 195,
   "metadata": {},
   "outputs": [],
   "source": [
    "p = log_reg.predict(x_data)"
   ]
  },
  {
   "cell_type": "code",
   "execution_count": 196,
   "metadata": {},
   "outputs": [
    {
     "data": {
      "text/plain": [
       "0.5774875217013888"
      ]
     },
     "execution_count": 196,
     "metadata": {},
     "output_type": "execute_result"
    }
   ],
   "source": [
    "# 정규화 해줬더니 조금 늘었다! (1%..ㅎㅎㅎ)\n",
    "np.mean(p == y_data)"
   ]
  },
  {
   "cell_type": "code",
   "execution_count": 198,
   "metadata": {},
   "outputs": [
    {
     "data": {
      "text/plain": [
       "array([[0.90271339, 0.09728661],\n",
       "       [0.85855898, 0.14144102]])"
      ]
     },
     "execution_count": 198,
     "metadata": {},
     "output_type": "execute_result"
    }
   ],
   "source": [
    "# 정규화 했으면 테스트할때도 정규화 된 값을 넣어줘야 함!\n",
    "# 이렇게 하면 안됨~~\n",
    "# x_data2 = np.array([\n",
    "#                     [0, 90, 66, 29, 0, 26.6, 0.351, 30],\n",
    "#                     [0, 90, 66, 29, 0, 26.6, 0.351, 60]\n",
    "#                   ])\n",
    "# log_reg.predict_proba(x_data2)\n",
    "\n",
    "# 당뇨병일 확률 계산\n",
    "x_data2 = np.array([\n",
    "                    [0, 90, 66, 29, 0, 26.6, 0.351, 30],\n",
    "                    [0, 90, 66, 29, 0, 26.6, 0.351, 60]\n",
    "                  ])\n",
    "# 정규화를 해줄것!\n",
    "x_data2 = x_data2 / mx\n",
    "\n",
    "log_reg.predict_proba(x_data2)"
   ]
  },
  {
   "cell_type": "markdown",
   "metadata": {},
   "source": [
    "# 다중 클래스 문제 (분류기가 여러개)"
   ]
  },
  {
   "cell_type": "code",
   "execution_count": 201,
   "metadata": {},
   "outputs": [
    {
     "name": "stdout",
     "output_type": "stream",
     "text": [
      "[0.14285714 0.28571429 0.57142857]\n"
     ]
    }
   ],
   "source": [
    "p = np.array([1.2, 2.4, 4.8])\n",
    "p_ = p / np.sum(p)\n",
    "\n",
    "print(p_)\n",
    "# 클래스1 일 확률은 0.14, 2일 확률은 0.28, 3일 확률은 0.57"
   ]
  },
  {
   "cell_type": "code",
   "execution_count": 202,
   "metadata": {},
   "outputs": [
    {
     "name": "stdout",
     "output_type": "stream",
     "text": [
      "[0.02443891 0.08114005 0.89442104]\n"
     ]
    }
   ],
   "source": [
    "#근데 위에같이는 잘 안쓰고 지수 함수를 한번 더 씌워줌\n",
    "p2 = np.exp(np.array([1.2, 2.4, 4.8]))   # softmax 알고리즘\n",
    "p2_ = p2 / np.sum(p2)\n",
    "\n",
    "print(p2_)\n",
    "# 각 확률의 차이가 굉장히 커졌음\n",
    "# 확실하게 3번째라고 볼 수 있음"
   ]
  },
  {
   "cell_type": "code",
   "execution_count": 205,
   "metadata": {},
   "outputs": [
    {
     "data": {
      "text/plain": [
       "([<matplotlib.patches.Wedge at 0x1d42d48c348>,\n",
       "  <matplotlib.patches.Wedge at 0x1d42d48c788>,\n",
       "  <matplotlib.patches.Wedge at 0x1d42d48ce88>],\n",
       " [Text(1.0967594940433238, 0.08437186868757104, ''),\n",
       "  Text(1.0095055570964817, 0.4369193634886445, ''),\n",
       "  Text(-1.0400440953569972, -0.358201451299469, '')])"
      ]
     },
     "execution_count": 205,
     "metadata": {},
     "output_type": "execute_result"
    }
   ],
   "source": [
    "plt.subplot(121)\n",
    "plt.pie(p_)\n",
    "plt.subplot(122)\n",
    "plt.pie(p2_)"
   ]
  },
  {
   "cell_type": "markdown",
   "metadata": {},
   "source": [
    "# 연습문제"
   ]
  },
  {
   "cell_type": "code",
   "execution_count": 234,
   "metadata": {},
   "outputs": [
    {
     "data": {
      "text/plain": [
       "['data', 'target', 'target_names', 'DESCR', 'feature_names', 'filename']"
      ]
     },
     "execution_count": 234,
     "metadata": {},
     "output_type": "execute_result"
    }
   ],
   "source": [
    "# 붓꽃을 분류하는 문제\n",
    "iris = datasets.load_iris()\n",
    "list(iris.keys())"
   ]
  },
  {
   "cell_type": "code",
   "execution_count": 235,
   "metadata": {},
   "outputs": [
    {
     "name": "stdout",
     "output_type": "stream",
     "text": [
      "[[5.1 3.5 1.4 0.2]\n",
      " [4.9 3.  1.4 0.2]\n",
      " [4.7 3.2 1.3 0.2]\n",
      " [4.6 3.1 1.5 0.2]\n",
      " [5.  3.6 1.4 0.2]\n",
      " [5.4 3.9 1.7 0.4]\n",
      " [4.6 3.4 1.4 0.3]\n",
      " [5.  3.4 1.5 0.2]\n",
      " [4.4 2.9 1.4 0.2]\n",
      " [4.9 3.1 1.5 0.1]\n",
      " [5.4 3.7 1.5 0.2]\n",
      " [4.8 3.4 1.6 0.2]\n",
      " [4.8 3.  1.4 0.1]\n",
      " [4.3 3.  1.1 0.1]\n",
      " [5.8 4.  1.2 0.2]\n",
      " [5.7 4.4 1.5 0.4]\n",
      " [5.4 3.9 1.3 0.4]\n",
      " [5.1 3.5 1.4 0.3]\n",
      " [5.7 3.8 1.7 0.3]\n",
      " [5.1 3.8 1.5 0.3]\n",
      " [5.4 3.4 1.7 0.2]\n",
      " [5.1 3.7 1.5 0.4]\n",
      " [4.6 3.6 1.  0.2]\n",
      " [5.1 3.3 1.7 0.5]\n",
      " [4.8 3.4 1.9 0.2]\n",
      " [5.  3.  1.6 0.2]\n",
      " [5.  3.4 1.6 0.4]\n",
      " [5.2 3.5 1.5 0.2]\n",
      " [5.2 3.4 1.4 0.2]\n",
      " [4.7 3.2 1.6 0.2]\n",
      " [4.8 3.1 1.6 0.2]\n",
      " [5.4 3.4 1.5 0.4]\n",
      " [5.2 4.1 1.5 0.1]\n",
      " [5.5 4.2 1.4 0.2]\n",
      " [4.9 3.1 1.5 0.2]\n",
      " [5.  3.2 1.2 0.2]\n",
      " [5.5 3.5 1.3 0.2]\n",
      " [4.9 3.6 1.4 0.1]\n",
      " [4.4 3.  1.3 0.2]\n",
      " [5.1 3.4 1.5 0.2]\n",
      " [5.  3.5 1.3 0.3]\n",
      " [4.5 2.3 1.3 0.3]\n",
      " [4.4 3.2 1.3 0.2]\n",
      " [5.  3.5 1.6 0.6]\n",
      " [5.1 3.8 1.9 0.4]\n",
      " [4.8 3.  1.4 0.3]\n",
      " [5.1 3.8 1.6 0.2]\n",
      " [4.6 3.2 1.4 0.2]\n",
      " [5.3 3.7 1.5 0.2]\n",
      " [5.  3.3 1.4 0.2]\n",
      " [7.  3.2 4.7 1.4]\n",
      " [6.4 3.2 4.5 1.5]\n",
      " [6.9 3.1 4.9 1.5]\n",
      " [5.5 2.3 4.  1.3]\n",
      " [6.5 2.8 4.6 1.5]\n",
      " [5.7 2.8 4.5 1.3]\n",
      " [6.3 3.3 4.7 1.6]\n",
      " [4.9 2.4 3.3 1. ]\n",
      " [6.6 2.9 4.6 1.3]\n",
      " [5.2 2.7 3.9 1.4]\n",
      " [5.  2.  3.5 1. ]\n",
      " [5.9 3.  4.2 1.5]\n",
      " [6.  2.2 4.  1. ]\n",
      " [6.1 2.9 4.7 1.4]\n",
      " [5.6 2.9 3.6 1.3]\n",
      " [6.7 3.1 4.4 1.4]\n",
      " [5.6 3.  4.5 1.5]\n",
      " [5.8 2.7 4.1 1. ]\n",
      " [6.2 2.2 4.5 1.5]\n",
      " [5.6 2.5 3.9 1.1]\n",
      " [5.9 3.2 4.8 1.8]\n",
      " [6.1 2.8 4.  1.3]\n",
      " [6.3 2.5 4.9 1.5]\n",
      " [6.1 2.8 4.7 1.2]\n",
      " [6.4 2.9 4.3 1.3]\n",
      " [6.6 3.  4.4 1.4]\n",
      " [6.8 2.8 4.8 1.4]\n",
      " [6.7 3.  5.  1.7]\n",
      " [6.  2.9 4.5 1.5]\n",
      " [5.7 2.6 3.5 1. ]\n",
      " [5.5 2.4 3.8 1.1]\n",
      " [5.5 2.4 3.7 1. ]\n",
      " [5.8 2.7 3.9 1.2]\n",
      " [6.  2.7 5.1 1.6]\n",
      " [5.4 3.  4.5 1.5]\n",
      " [6.  3.4 4.5 1.6]\n",
      " [6.7 3.1 4.7 1.5]\n",
      " [6.3 2.3 4.4 1.3]\n",
      " [5.6 3.  4.1 1.3]\n",
      " [5.5 2.5 4.  1.3]\n",
      " [5.5 2.6 4.4 1.2]\n",
      " [6.1 3.  4.6 1.4]\n",
      " [5.8 2.6 4.  1.2]\n",
      " [5.  2.3 3.3 1. ]\n",
      " [5.6 2.7 4.2 1.3]\n",
      " [5.7 3.  4.2 1.2]\n",
      " [5.7 2.9 4.2 1.3]\n",
      " [6.2 2.9 4.3 1.3]\n",
      " [5.1 2.5 3.  1.1]\n",
      " [5.7 2.8 4.1 1.3]\n",
      " [6.3 3.3 6.  2.5]\n",
      " [5.8 2.7 5.1 1.9]\n",
      " [7.1 3.  5.9 2.1]\n",
      " [6.3 2.9 5.6 1.8]\n",
      " [6.5 3.  5.8 2.2]\n",
      " [7.6 3.  6.6 2.1]\n",
      " [4.9 2.5 4.5 1.7]\n",
      " [7.3 2.9 6.3 1.8]\n",
      " [6.7 2.5 5.8 1.8]\n",
      " [7.2 3.6 6.1 2.5]\n",
      " [6.5 3.2 5.1 2. ]\n",
      " [6.4 2.7 5.3 1.9]\n",
      " [6.8 3.  5.5 2.1]\n",
      " [5.7 2.5 5.  2. ]\n",
      " [5.8 2.8 5.1 2.4]\n",
      " [6.4 3.2 5.3 2.3]\n",
      " [6.5 3.  5.5 1.8]\n",
      " [7.7 3.8 6.7 2.2]\n",
      " [7.7 2.6 6.9 2.3]\n",
      " [6.  2.2 5.  1.5]\n",
      " [6.9 3.2 5.7 2.3]\n",
      " [5.6 2.8 4.9 2. ]\n",
      " [7.7 2.8 6.7 2. ]\n",
      " [6.3 2.7 4.9 1.8]\n",
      " [6.7 3.3 5.7 2.1]\n",
      " [7.2 3.2 6.  1.8]\n",
      " [6.2 2.8 4.8 1.8]\n",
      " [6.1 3.  4.9 1.8]\n",
      " [6.4 2.8 5.6 2.1]\n",
      " [7.2 3.  5.8 1.6]\n",
      " [7.4 2.8 6.1 1.9]\n",
      " [7.9 3.8 6.4 2. ]\n",
      " [6.4 2.8 5.6 2.2]\n",
      " [6.3 2.8 5.1 1.5]\n",
      " [6.1 2.6 5.6 1.4]\n",
      " [7.7 3.  6.1 2.3]\n",
      " [6.3 3.4 5.6 2.4]\n",
      " [6.4 3.1 5.5 1.8]\n",
      " [6.  3.  4.8 1.8]\n",
      " [6.9 3.1 5.4 2.1]\n",
      " [6.7 3.1 5.6 2.4]\n",
      " [6.9 3.1 5.1 2.3]\n",
      " [5.8 2.7 5.1 1.9]\n",
      " [6.8 3.2 5.9 2.3]\n",
      " [6.7 3.3 5.7 2.5]\n",
      " [6.7 3.  5.2 2.3]\n",
      " [6.3 2.5 5.  1.9]\n",
      " [6.5 3.  5.2 2. ]\n",
      " [6.2 3.4 5.4 2.3]\n",
      " [5.9 3.  5.1 1.8]]\n"
     ]
    }
   ],
   "source": [
    "print(iris.data)"
   ]
  },
  {
   "cell_type": "code",
   "execution_count": 236,
   "metadata": {},
   "outputs": [
    {
     "name": "stdout",
     "output_type": "stream",
     "text": [
      "[0 0 0 0 0 0 0 0 0 0 0 0 0 0 0 0 0 0 0 0 0 0 0 0 0 0 0 0 0 0 0 0 0 0 0 0 0\n",
      " 0 0 0 0 0 0 0 0 0 0 0 0 0 1 1 1 1 1 1 1 1 1 1 1 1 1 1 1 1 1 1 1 1 1 1 1 1\n",
      " 1 1 1 1 1 1 1 1 1 1 1 1 1 1 1 1 1 1 1 1 1 1 1 1 1 1 2 2 2 2 2 2 2 2 2 2 2\n",
      " 2 2 2 2 2 2 2 2 2 2 2 2 2 2 2 2 2 2 2 2 2 2 2 2 2 2 2 2 2 2 2 2 2 2 2 2 2\n",
      " 2 2]\n"
     ]
    }
   ],
   "source": [
    "print(iris.target)"
   ]
  },
  {
   "cell_type": "code",
   "execution_count": 238,
   "metadata": {},
   "outputs": [],
   "source": [
    "x = iris.data\n",
    "y = iris.target"
   ]
  },
  {
   "cell_type": "code",
   "execution_count": 213,
   "metadata": {},
   "outputs": [
    {
     "name": "stderr",
     "output_type": "stream",
     "text": [
      "C:\\Users\\user\\anaconda3\\lib\\site-packages\\sklearn\\linear_model\\_logistic.py:940: ConvergenceWarning: lbfgs failed to converge (status=1):\n",
      "STOP: TOTAL NO. of ITERATIONS REACHED LIMIT.\n",
      "\n",
      "Increase the number of iterations (max_iter) or scale the data as shown in:\n",
      "    https://scikit-learn.org/stable/modules/preprocessing.html\n",
      "Please also refer to the documentation for alternative solver options:\n",
      "    https://scikit-learn.org/stable/modules/linear_model.html#logistic-regression\n",
      "  extra_warning_msg=_LOGISTIC_SOLVER_CONVERGENCE_MSG)\n"
     ]
    },
    {
     "data": {
      "text/plain": [
       "LogisticRegression(C=1.0, class_weight=None, dual=False, fit_intercept=True,\n",
       "                   intercept_scaling=1, l1_ratio=None, max_iter=100,\n",
       "                   multi_class='auto', n_jobs=None, penalty='l2',\n",
       "                   random_state=None, solver='lbfgs', tol=0.0001, verbose=0,\n",
       "                   warm_start=False)"
      ]
     },
     "execution_count": 213,
     "metadata": {},
     "output_type": "execute_result"
    }
   ],
   "source": [
    "log_reg.fit(x, y)"
   ]
  },
  {
   "cell_type": "code",
   "execution_count": 214,
   "metadata": {},
   "outputs": [
    {
     "data": {
      "text/plain": [
       "array([0, 0, 0, 0, 0, 0, 0, 0, 0, 0, 0, 0, 0, 0, 0, 0, 0, 0, 0, 0, 0, 0,\n",
       "       0, 0, 0, 0, 0, 0, 0, 0, 0, 0, 0, 0, 0, 0, 0, 0, 0, 0, 0, 0, 0, 0,\n",
       "       0, 0, 0, 0, 0, 0, 1, 1, 1, 1, 1, 1, 1, 1, 1, 1, 1, 1, 1, 1, 1, 1,\n",
       "       1, 1, 1, 1, 2, 1, 1, 1, 1, 1, 1, 2, 1, 1, 1, 1, 1, 2, 1, 1, 1, 1,\n",
       "       1, 1, 1, 1, 1, 1, 1, 1, 1, 1, 1, 1, 2, 2, 2, 2, 2, 2, 1, 2, 2, 2,\n",
       "       2, 2, 2, 2, 2, 2, 2, 2, 2, 2, 2, 2, 2, 2, 2, 2, 2, 2, 2, 2, 2, 2,\n",
       "       2, 2, 2, 2, 2, 2, 2, 2, 2, 2, 2, 2, 2, 2, 2, 2, 2, 2])"
      ]
     },
     "execution_count": 214,
     "metadata": {},
     "output_type": "execute_result"
    }
   ],
   "source": [
    "log_reg.predict(x)"
   ]
  },
  {
   "cell_type": "code",
   "execution_count": 216,
   "metadata": {},
   "outputs": [
    {
     "data": {
      "text/plain": [
       "0.9733333333333334"
      ]
     },
     "execution_count": 216,
     "metadata": {},
     "output_type": "execute_result"
    }
   ],
   "source": [
    "# 성능\n",
    "np.mean(log_reg.predict(x) == y)"
   ]
  },
  {
   "cell_type": "code",
   "execution_count": 222,
   "metadata": {},
   "outputs": [
    {
     "data": {
      "text/plain": [
       "array([[9.81814805e-01, 1.81851810e-02, 1.43953228e-08],\n",
       "       [9.71754998e-01, 2.82449715e-02, 3.01061907e-08],\n",
       "       [9.85463134e-01, 1.45368538e-02, 1.23024373e-08],\n",
       "       [9.76312124e-01, 2.36878365e-02, 3.96543113e-08],\n",
       "       [9.85396810e-01, 1.46031782e-02, 1.19195533e-08],\n",
       "       [9.70481415e-01, 2.95185111e-02, 7.33772420e-08],\n",
       "       [9.86898254e-01, 1.31017266e-02, 1.99451613e-08],\n",
       "       [9.76418016e-01, 2.35819561e-02, 2.75750515e-08],\n",
       "       [9.79859915e-01, 2.01400545e-02, 3.06377205e-08],\n",
       "       [9.69157782e-01, 3.08421863e-02, 3.15857429e-08]])"
      ]
     },
     "execution_count": 222,
     "metadata": {},
     "output_type": "execute_result"
    }
   ],
   "source": [
    "log_reg.predict_proba(x[:10])\n",
    "# [첫번째 클래스일 확률, 두번째 클래스일 확률, 세번째 클래스일 확률]"
   ]
  },
  {
   "cell_type": "code",
   "execution_count": 223,
   "metadata": {},
   "outputs": [
    {
     "name": "stdout",
     "output_type": "stream",
     "text": [
      "[[5.1 3.5]\n",
      " [4.9 3. ]\n",
      " [4.7 3.2]\n",
      " [4.6 3.1]\n",
      " [5.  3.6]\n",
      " [5.4 3.9]\n",
      " [4.6 3.4]\n",
      " [5.  3.4]\n",
      " [4.4 2.9]\n",
      " [4.9 3.1]\n",
      " [5.4 3.7]\n",
      " [4.8 3.4]\n",
      " [4.8 3. ]\n",
      " [4.3 3. ]\n",
      " [5.8 4. ]\n",
      " [5.7 4.4]\n",
      " [5.4 3.9]\n",
      " [5.1 3.5]\n",
      " [5.7 3.8]\n",
      " [5.1 3.8]\n",
      " [5.4 3.4]\n",
      " [5.1 3.7]\n",
      " [4.6 3.6]\n",
      " [5.1 3.3]\n",
      " [4.8 3.4]\n",
      " [5.  3. ]\n",
      " [5.  3.4]\n",
      " [5.2 3.5]\n",
      " [5.2 3.4]\n",
      " [4.7 3.2]\n",
      " [4.8 3.1]\n",
      " [5.4 3.4]\n",
      " [5.2 4.1]\n",
      " [5.5 4.2]\n",
      " [4.9 3.1]\n",
      " [5.  3.2]\n",
      " [5.5 3.5]\n",
      " [4.9 3.6]\n",
      " [4.4 3. ]\n",
      " [5.1 3.4]\n",
      " [5.  3.5]\n",
      " [4.5 2.3]\n",
      " [4.4 3.2]\n",
      " [5.  3.5]\n",
      " [5.1 3.8]\n",
      " [4.8 3. ]\n",
      " [5.1 3.8]\n",
      " [4.6 3.2]\n",
      " [5.3 3.7]\n",
      " [5.  3.3]\n",
      " [7.  3.2]\n",
      " [6.4 3.2]\n",
      " [6.9 3.1]\n",
      " [5.5 2.3]\n",
      " [6.5 2.8]\n",
      " [5.7 2.8]\n",
      " [6.3 3.3]\n",
      " [4.9 2.4]\n",
      " [6.6 2.9]\n",
      " [5.2 2.7]\n",
      " [5.  2. ]\n",
      " [5.9 3. ]\n",
      " [6.  2.2]\n",
      " [6.1 2.9]\n",
      " [5.6 2.9]\n",
      " [6.7 3.1]\n",
      " [5.6 3. ]\n",
      " [5.8 2.7]\n",
      " [6.2 2.2]\n",
      " [5.6 2.5]\n",
      " [5.9 3.2]\n",
      " [6.1 2.8]\n",
      " [6.3 2.5]\n",
      " [6.1 2.8]\n",
      " [6.4 2.9]\n",
      " [6.6 3. ]\n",
      " [6.8 2.8]\n",
      " [6.7 3. ]\n",
      " [6.  2.9]\n",
      " [5.7 2.6]\n",
      " [5.5 2.4]\n",
      " [5.5 2.4]\n",
      " [5.8 2.7]\n",
      " [6.  2.7]\n",
      " [5.4 3. ]\n",
      " [6.  3.4]\n",
      " [6.7 3.1]\n",
      " [6.3 2.3]\n",
      " [5.6 3. ]\n",
      " [5.5 2.5]\n",
      " [5.5 2.6]\n",
      " [6.1 3. ]\n",
      " [5.8 2.6]\n",
      " [5.  2.3]\n",
      " [5.6 2.7]\n",
      " [5.7 3. ]\n",
      " [5.7 2.9]\n",
      " [6.2 2.9]\n",
      " [5.1 2.5]\n",
      " [5.7 2.8]\n",
      " [6.3 3.3]\n",
      " [5.8 2.7]\n",
      " [7.1 3. ]\n",
      " [6.3 2.9]\n",
      " [6.5 3. ]\n",
      " [7.6 3. ]\n",
      " [4.9 2.5]\n",
      " [7.3 2.9]\n",
      " [6.7 2.5]\n",
      " [7.2 3.6]\n",
      " [6.5 3.2]\n",
      " [6.4 2.7]\n",
      " [6.8 3. ]\n",
      " [5.7 2.5]\n",
      " [5.8 2.8]\n",
      " [6.4 3.2]\n",
      " [6.5 3. ]\n",
      " [7.7 3.8]\n",
      " [7.7 2.6]\n",
      " [6.  2.2]\n",
      " [6.9 3.2]\n",
      " [5.6 2.8]\n",
      " [7.7 2.8]\n",
      " [6.3 2.7]\n",
      " [6.7 3.3]\n",
      " [7.2 3.2]\n",
      " [6.2 2.8]\n",
      " [6.1 3. ]\n",
      " [6.4 2.8]\n",
      " [7.2 3. ]\n",
      " [7.4 2.8]\n",
      " [7.9 3.8]\n",
      " [6.4 2.8]\n",
      " [6.3 2.8]\n",
      " [6.1 2.6]\n",
      " [7.7 3. ]\n",
      " [6.3 3.4]\n",
      " [6.4 3.1]\n",
      " [6.  3. ]\n",
      " [6.9 3.1]\n",
      " [6.7 3.1]\n",
      " [6.9 3.1]\n",
      " [5.8 2.7]\n",
      " [6.8 3.2]\n",
      " [6.7 3.3]\n",
      " [6.7 3. ]\n",
      " [6.3 2.5]\n",
      " [6.5 3. ]\n",
      " [6.2 3.4]\n",
      " [5.9 3. ]]\n"
     ]
    }
   ],
   "source": [
    "# 전체 데이터중 2개만 가져다 쓰면?\n",
    "x = iris.data[:, 0:2]\n",
    "print(x)\n",
    "y = iris.target"
   ]
  },
  {
   "cell_type": "code",
   "execution_count": 224,
   "metadata": {},
   "outputs": [
    {
     "data": {
      "text/plain": [
       "0.82"
      ]
     },
     "execution_count": 224,
     "metadata": {},
     "output_type": "execute_result"
    }
   ],
   "source": [
    "# 성능이 떨어짐\n",
    "log_reg.fit(x, y)\n",
    "np.mean(log_reg.predict(x) == y)"
   ]
  },
  {
   "cell_type": "code",
   "execution_count": 225,
   "metadata": {},
   "outputs": [
    {
     "data": {
      "text/plain": [
       "0.96"
      ]
     },
     "execution_count": 225,
     "metadata": {},
     "output_type": "execute_result"
    }
   ],
   "source": [
    "# 2개를 가져다 써도 어떤 특징을 가져다 쓰는지에 따라 성능이 달라짐\n",
    "# 전체 데이터중 2개만 가져다 쓰면?\n",
    "x2 = iris.data[:, [0, 2]]\n",
    "log_reg.fit(x2, y)\n",
    "np.mean(log_reg.predict(x2) == y)\n",
    "# 다른 특성을 가져다 썼더니 성능이 좋아졌넹"
   ]
  },
  {
   "cell_type": "code",
   "execution_count": 226,
   "metadata": {},
   "outputs": [
    {
     "data": {
      "text/plain": [
       "array([False, False, False, False, False, False, False, False,  True,\n",
       "       False, False, False, False,  True, False, False, False, False,\n",
       "       False, False, False, False, False, False, False, False, False,\n",
       "       False, False, False, False, False, False, False, False, False,\n",
       "       False, False, False, False, False,  True, False, False, False,\n",
       "       False, False, False, False, False,  True,  True,  True, False,\n",
       "        True,  True,  True, False,  True, False, False,  True, False,\n",
       "        True,  True,  True,  True,  True, False, False,  True,  True,\n",
       "        True,  True,  True,  True,  True,  True,  True, False, False,\n",
       "       False,  True,  True,  True,  True,  True, False,  True, False,\n",
       "       False,  True,  True, False,  True,  True,  True,  True, False,\n",
       "        True, False, False, False, False, False, False, False, False,\n",
       "       False, False, False, False, False, False, False, False, False,\n",
       "       False, False, False, False, False, False, False, False, False,\n",
       "       False, False, False, False, False, False, False, False, False,\n",
       "       False, False, False, False, False, False, False, False, False,\n",
       "       False, False, False, False, False, False])"
      ]
     },
     "execution_count": 226,
     "metadata": {},
     "output_type": "execute_result"
    }
   ],
   "source": [
    "# 왜 성능이 안좋아졌는지 분석해보기\n",
    "log_reg.predict(x) == y"
   ]
  },
  {
   "cell_type": "code",
   "execution_count": 240,
   "metadata": {},
   "outputs": [
    {
     "data": {
      "text/plain": [
       "<matplotlib.collections.PathCollection at 0x1d430a42188>"
      ]
     },
     "execution_count": 240,
     "metadata": {},
     "output_type": "execute_result"
    }
   ],
   "source": [
    "xx, yy = np.mgrid[0:8:0.2, 0:8:0.2]\n",
    "grid = np.c_[xx.flatten(), yy.flatten()]\n",
    "\n",
    "p = log_reg.predict(grid)\n",
    "\n",
    "d = ['red', 'blue', 'yellow']\n",
    "\n",
    "colors = [d[i] for i in p]\n",
    "plt.scatter(xx.flatten(), yy.flatten(), color = colors, alpha = 0.2)\n",
    "\n",
    "colors = [d[i] for i in y]\n",
    "plt.scatter(x[:,0], x[:,1], color=colors)"
   ]
  },
  {
   "cell_type": "code",
   "execution_count": 247,
   "metadata": {},
   "outputs": [
    {
     "data": {
      "text/plain": [
       "<matplotlib.collections.PathCollection at 0x1d42ae15208>"
      ]
     },
     "execution_count": 247,
     "metadata": {},
     "output_type": "execute_result"
    }
   ],
   "source": [
    "# 축 바꿔보기\n"
   ]
  },
  {
   "cell_type": "code",
   "execution_count": null,
   "metadata": {},
   "outputs": [],
   "source": []
  }
 ],
 "metadata": {
  "kernelspec": {
   "display_name": "Python 3",
   "language": "python",
   "name": "python3"
  },
  "language_info": {
   "codemirror_mode": {
    "name": "ipython",
    "version": 3
   },
   "file_extension": ".py",
   "mimetype": "text/x-python",
   "name": "python",
   "nbconvert_exporter": "python",
   "pygments_lexer": "ipython3",
   "version": "3.7.6"
  },
  "toc": {
   "base_numbering": 1,
   "nav_menu": {},
   "number_sections": false,
   "sideBar": true,
   "skip_h1_title": false,
   "title_cell": "Table of Contents",
   "title_sidebar": "Contents",
   "toc_cell": false,
   "toc_position": {},
   "toc_section_display": true,
   "toc_window_display": false
  }
 },
 "nbformat": 4,
 "nbformat_minor": 4
}
